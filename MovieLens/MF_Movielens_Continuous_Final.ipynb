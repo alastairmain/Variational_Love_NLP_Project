{
 "cells": [
  {
   "cell_type": "markdown",
   "metadata": {},
   "source": [
    "# Collaborative Filtering - Matrix Factorization\n",
    "\n",
    "This script takes user and movie ratings as input to predict a user's rating of another movie, and thus recommend it.\n",
    "\n",
    "The following code borrows heavily from the following websites\n",
    "\n",
    "https://blog.fastforwardlabs.com/2018/04/10/pytorch-for-recommenders-101.html\n",
    "\n",
    "https://www.ethanrosenthal.com/2017/06/20/matrix-factorization-in-pytorch/\n",
    "\n",
    "https://github.com/groverpr/deep-learning/blob/master/recommendation_engine/netflix_collaborative_filtering.ipynb?fbclid=IwAR0UKO20pkXMQMtkkWjoDIl9De7U2mXyr4NNKoEfc5tkT9drJMTI62-GGt8\n",
    "\n",
    "https://github.com/fastai/fastai/blob/master/courses/dl1/lesson5-movielens.ipynb?fbclid=IwAR3P7o6Dgx1aaG7aATYhxYU0VYUNFM3iVKj2L33K5pGl48DTrQGaF5AiKkg\n"
   ]
  },
  {
   "cell_type": "code",
   "execution_count": 1,
   "metadata": {},
   "outputs": [],
   "source": [
    "#!pip install torchtext\n",
    "#!pip install torch"
   ]
  },
  {
   "cell_type": "code",
   "execution_count": 2,
   "metadata": {},
   "outputs": [],
   "source": [
    "#### Packages ####\n",
    "import torch\n",
    "import pandas as pd\n",
    "import torch.nn as nn\n",
    "import torch.optim as optim\n",
    "import torch.nn.functional as F\n",
    "import numpy as np\n",
    "import matplotlib.pyplot as plt\n",
    "from torch.autograd import Variable\n",
    "from torch.utils.data import Dataset, DataLoader"
   ]
  },
  {
   "cell_type": "code",
   "execution_count": 3,
   "metadata": {},
   "outputs": [],
   "source": [
    "#### Loading dataset ####\n",
    "# We are only interested in user ID, movie ID and ratings\n",
    "ratings_df = pd.read_csv('ratings_small.csv', usecols = ['userId','movieId','rating'])"
   ]
  },
  {
   "cell_type": "code",
   "execution_count": 4,
   "metadata": {},
   "outputs": [
    {
     "name": "stdout",
     "output_type": "stream",
     "text": [
      "Printing head of dataset with new IDs: \n"
     ]
    },
    {
     "data": {
      "text/html": [
       "<div>\n",
       "<style scoped>\n",
       "    .dataframe tbody tr th:only-of-type {\n",
       "        vertical-align: middle;\n",
       "    }\n",
       "\n",
       "    .dataframe tbody tr th {\n",
       "        vertical-align: top;\n",
       "    }\n",
       "\n",
       "    .dataframe thead th {\n",
       "        text-align: right;\n",
       "    }\n",
       "</style>\n",
       "<table border=\"1\" class=\"dataframe\">\n",
       "  <thead>\n",
       "    <tr style=\"text-align: right;\">\n",
       "      <th></th>\n",
       "      <th>userId</th>\n",
       "      <th>movieId</th>\n",
       "      <th>rating</th>\n",
       "    </tr>\n",
       "  </thead>\n",
       "  <tbody>\n",
       "    <tr>\n",
       "      <th>0</th>\n",
       "      <td>0</td>\n",
       "      <td>0</td>\n",
       "      <td>2.5</td>\n",
       "    </tr>\n",
       "    <tr>\n",
       "      <th>1</th>\n",
       "      <td>0</td>\n",
       "      <td>1</td>\n",
       "      <td>3.0</td>\n",
       "    </tr>\n",
       "    <tr>\n",
       "      <th>2</th>\n",
       "      <td>0</td>\n",
       "      <td>2</td>\n",
       "      <td>3.0</td>\n",
       "    </tr>\n",
       "    <tr>\n",
       "      <th>3</th>\n",
       "      <td>0</td>\n",
       "      <td>3</td>\n",
       "      <td>2.0</td>\n",
       "    </tr>\n",
       "    <tr>\n",
       "      <th>4</th>\n",
       "      <td>0</td>\n",
       "      <td>4</td>\n",
       "      <td>4.0</td>\n",
       "    </tr>\n",
       "  </tbody>\n",
       "</table>\n",
       "</div>"
      ],
      "text/plain": [
       "   userId  movieId  rating\n",
       "0       0        0     2.5\n",
       "1       0        1     3.0\n",
       "2       0        2     3.0\n",
       "3       0        3     2.0\n",
       "4       0        4     4.0"
      ]
     },
     "execution_count": 4,
     "metadata": {},
     "output_type": "execute_result"
    }
   ],
   "source": [
    "#### Creating new indices ####\n",
    "def zero_indexing(column):\n",
    "    uniq = column.unique()\n",
    "    newindex = {o:i for i,o in enumerate(uniq)}\n",
    "    # Subtracting 1 from the original ID's\n",
    "    return newindex, np.array([newindex.get(x, -1) for x in column])\n",
    "\n",
    "_,usercol = zero_indexing(ratings_df[\"userId\"])\n",
    "_,moviecol = zero_indexing(ratings_df[\"movieId\"])\n",
    "\n",
    "ratings_df[\"userId\"] = usercol\n",
    "ratings_df[\"movieId\"] = moviecol\n",
    "\n",
    "# Removing ID's which are less than 0\n",
    "ratings_dataset = ratings_df[ratings_df[\"userId\"] >= 0]\n",
    "ratings_dataset = ratings_df[ratings_df[\"movieId\"] >= 0]\n",
    "\n",
    "print(\"Printing head of dataset with new IDs: \")\n",
    "ratings_dataset.head()"
   ]
  },
  {
   "cell_type": "code",
   "execution_count": 5,
   "metadata": {},
   "outputs": [
    {
     "name": "stdout",
     "output_type": "stream",
     "text": [
      "Entire dataset:  100004\n",
      "Train size:  70001\n",
      "Validation size:  20001\n",
      "Test size:  10002\n",
      "Checking if dimensions match:  True\n"
     ]
    }
   ],
   "source": [
    "#### Splitting dataset into training, validation and test sets ####\n",
    "n = len(ratings_dataset)\n",
    "sizes = [0.7, 0.2, 0.1]\n",
    "train_size = int(sizes[0]*n)\n",
    "val_size = int(sizes[1]*n)\n",
    "test_size = int(sizes[2]*n)\n",
    "\n",
    "train_set = ratings_dataset[:train_size-1].copy() # till 70002-1 = 70001\n",
    "val_set = ratings_dataset[train_size:-test_size-1].copy() # from 70002 to 100.004 - 20000\n",
    "test_set = ratings_dataset[train_size+val_size:].copy() # from train+val size\n",
    "\n",
    "print(\"Entire dataset: \", n)\n",
    "print(\"Train size: \", train_set.shape[0])\n",
    "print(\"Validation size: \", val_set.shape[0])\n",
    "print(\"Test size: \", test_set.shape[0])\n",
    "print(\"Checking if dimensions match: \", train_set.shape[0] + val_set.shape[0] + test_set.shape[0] == n )"
   ]
  },
  {
   "cell_type": "code",
   "execution_count": 6,
   "metadata": {},
   "outputs": [],
   "source": [
    "#### Creating a dataformatting to format the data ####\n",
    "class dataformatting(Dataset):\n",
    "    def __init__(self, users, movies, rating):\n",
    "        self.movies = movies\n",
    "        self.users = users\n",
    "        self.rating = rating\n",
    "        \n",
    "    def __len__(self):\n",
    "        return len(self.rating)\n",
    "\n",
    "    def __getitem__(self, index):\n",
    "        u = self.users[index]\n",
    "        m = self.movies[index]\n",
    "        r = self.rating[index]\n",
    "        return [u, m, r]"
   ]
  },
  {
   "cell_type": "code",
   "execution_count": 7,
   "metadata": {},
   "outputs": [],
   "source": [
    "#### Formatting training, validation and training sets ####\n",
    "u_train = torch.LongTensor(train_set.userId.values)\n",
    "m_train = torch.LongTensor(train_set.movieId.values)\n",
    "r_train = torch.FloatTensor(train_set.rating.values)\n",
    "\n",
    "train_dataset = dataformatting(u_train, m_train, r_train)\n",
    "train_iter = torch.utils.data.DataLoader(train_dataset, batch_size=100, shuffle=True)\n",
    "\n",
    "u_val = torch.LongTensor(val_set.userId.values)\n",
    "m_val = torch.LongTensor(val_set.movieId.values)\n",
    "r_val = torch.FloatTensor(val_set.rating.values)\n",
    "val_dataset = dataformatting(u_val, m_val,r_val)\n",
    "val_iter = torch.utils.data.DataLoader(val_dataset, batch_size=100, shuffle=True)\n",
    "\n",
    "u_test = torch.LongTensor(test_set.userId.values)\n",
    "m_test = torch.LongTensor(test_set.movieId.values)\n",
    "r_test = torch.FloatTensor(test_set.rating.values)\n",
    "test_dataset = dataformatting(u_test, m_test, r_test)\n",
    "test_iter = torch.utils.data.DataLoader(test_dataset, batch_size=100, shuffle=True)"
   ]
  },
  {
   "cell_type": "code",
   "execution_count": 8,
   "metadata": {},
   "outputs": [],
   "source": [
    "num_user = len(ratings_dataset.userId.unique()) \n",
    "num_movie = len(ratings_dataset.movieId.unique())\n",
    "emb_size = 10\n",
    "\n",
    "class MatrixFactorization(nn.Module):\n",
    "    def __init__(self, num_user, num_movie):\n",
    "        super(MatrixFactorization, self).__init__()\n",
    "        self.user_embedding = nn.Embedding(num_user, emb_size)\n",
    "        self.movie_embedding = nn.Embedding(num_movie, emb_size)\n",
    "        \n",
    "    def forward(self, u, m):\n",
    "        U = self.user_embedding(u)\n",
    "        M = self.movie_embedding(m)\n",
    "        r_max = 5 # maximum rating\n",
    "        r_min = 1 # minimum rating\n",
    "        res = torch.sigmoid((U*M).sum(1))*(r_max - r_min) + r_min\n",
    "        return res"
   ]
  },
  {
   "cell_type": "code",
   "execution_count": 9,
   "metadata": {},
   "outputs": [],
   "source": [
    "## Training loop\n",
    "def training(MF, train_iter, optimizer, criterion, epoch):\n",
    "    MF.train()\n",
    "    trainloss = 0\n",
    "    \n",
    "    for batch_idx, data in enumerate(train_iter):\n",
    "        \n",
    "        users, items, ratings = data\n",
    "        batch_size = len(users)\n",
    "        users = users.long()\n",
    "        items = items.long()\n",
    "        ratings = ratings.float()      \n",
    "        ratings = ratings.view(-1)\n",
    "        optimizer.zero_grad()\n",
    "        out = MF(users, items)\n",
    "        out = out.view(-1)\n",
    "        loss = criterion(out.float(), ratings)\n",
    "        loss.backward()\n",
    "        optimizer.step()\n",
    "        \n",
    "        trainloss += loss.item()\n",
    "        \n",
    "    return trainloss/len(train_iter)\n",
    "\n",
    "def validate(MF, val_iter, criterion, epoch):\n",
    "    MF.eval()\n",
    "    valloss = 0\n",
    "    with torch.no_grad():\n",
    "        for batch_idx, data in enumerate(val_iter):\n",
    "            users, items, ratings = data\n",
    "            batch_size = len(users)\n",
    "            users = users.long()\n",
    "            items = items.long()\n",
    "            ratings = ratings.float()\n",
    "            ratings = ratings.view(-1)\n",
    "            out = MF(users, items)\n",
    "            loss = criterion(out.float(), ratings)\n",
    "            valloss+=loss.item()\n",
    "\n",
    "    return valloss/len(val_iter)\n",
    "\n",
    "def trainLoop(epochs, lr=0.001, wd = 1e-6):\n",
    "    # Defining model    \n",
    "    MF = MatrixFactorization(num_user, num_movie)\n",
    "    criterion = nn.MSELoss()\n",
    "    optimizer = optim.Adam(filter(lambda p: p.requires_grad, MF.parameters()), lr=lr, weight_decay = wd)\n",
    "    \n",
    "    lossestrain = []\n",
    "    lossesval = []\n",
    "    \n",
    "    for epoch in range(1, epochs + 1):\n",
    "        trainloss = training(MF, train_iter, optimizer, criterion, epoch)\n",
    "        valloss = validate(MF, val_iter, criterion, epoch)\n",
    "        \n",
    "        lossestrain += [trainloss]\n",
    "        lossesval += [valloss]\n",
    "        print(f'Epoch {epoch}: Training loss: {trainloss:2.5f} | Validation loss: {valloss:2.5f}')\n",
    "\n",
    "    #### Plots ####\n",
    "    plt.plot(range(1,epoch+1),lossestrain)\n",
    "    plt.plot(range(1,epoch+1),lossesval)\n",
    "    plt.xlabel('Epochs'), plt.ylabel('Loss')\n",
    "    plt.legend(['Training loss','Validation loss'], loc = 1)\n",
    "    plt.show()"
   ]
  },
  {
   "cell_type": "code",
   "execution_count": 10,
   "metadata": {
    "scrolled": false
   },
   "outputs": [
    {
     "name": "stdout",
     "output_type": "stream",
     "text": [
      "Epoch 1: Training loss: 3.42099 | Validation loss: 2.52351\n",
      "Epoch 2: Training loss: 3.19348 | Validation loss: 1.90251\n",
      "Epoch 3: Training loss: 2.95929 | Validation loss: 1.60029\n",
      "Epoch 4: Training loss: 2.73218 | Validation loss: 1.49691\n",
      "Epoch 5: Training loss: 2.52018 | Validation loss: 1.44183\n",
      "Epoch 6: Training loss: 2.32462 | Validation loss: 1.44350\n",
      "Epoch 7: Training loss: 2.14679 | Validation loss: 1.41909\n",
      "Epoch 8: Training loss: 1.99480 | Validation loss: 1.43833\n",
      "Epoch 9: Training loss: 1.86719 | Validation loss: 1.42348\n",
      "Epoch 10: Training loss: 1.75509 | Validation loss: 1.43818\n",
      "Epoch 11: Training loss: 1.66155 | Validation loss: 1.41834\n",
      "Epoch 12: Training loss: 1.57258 | Validation loss: 1.42313\n",
      "Epoch 13: Training loss: 1.49260 | Validation loss: 1.42299\n",
      "Epoch 14: Training loss: 1.42644 | Validation loss: 1.41789\n",
      "Epoch 15: Training loss: 1.35863 | Validation loss: 1.42261\n",
      "Epoch 16: Training loss: 1.29345 | Validation loss: 1.42854\n",
      "Epoch 17: Training loss: 1.22458 | Validation loss: 1.42827\n",
      "Epoch 18: Training loss: 1.16845 | Validation loss: 1.42182\n",
      "Epoch 19: Training loss: 1.09502 | Validation loss: 1.41781\n",
      "Epoch 20: Training loss: 1.02924 | Validation loss: 1.42731\n",
      "Epoch 21: Training loss: 0.96687 | Validation loss: 1.41591\n",
      "Epoch 22: Training loss: 0.90746 | Validation loss: 1.41564\n",
      "Epoch 23: Training loss: 0.84907 | Validation loss: 1.43511\n",
      "Epoch 24: Training loss: 0.79880 | Validation loss: 1.42010\n",
      "Epoch 25: Training loss: 0.75256 | Validation loss: 1.43472\n",
      "Epoch 26: Training loss: 0.71292 | Validation loss: 1.41487\n",
      "Epoch 27: Training loss: 0.67808 | Validation loss: 1.41967\n",
      "Epoch 28: Training loss: 0.64820 | Validation loss: 1.42573\n",
      "Epoch 29: Training loss: 0.62136 | Validation loss: 1.41578\n",
      "Epoch 30: Training loss: 0.59842 | Validation loss: 1.41448\n"
     ]
    },
    {
     "data": {
      "image/png": "[encoded data removed]",
      "text/plain": [
       "<Figure size 432x288 with 1 Axes>"
      ]
     },
     "metadata": {
      "needs_background": "light"
     },
     "output_type": "display_data"
    }
   ],
   "source": [
    "#### All Systems Go! ####\n",
    "trainLoop(epochs = 30, lr = 0.001, wd = 1e-5)"
   ]
  }
 ],
 "metadata": {
  "kernelspec": {
   "display_name": "Python 3",
   "language": "python",
   "name": "python3"
  },
  "language_info": {
   "codemirror_mode": {
    "name": "ipython",
    "version": 3
   },
   "file_extension": ".py",
   "mimetype": "text/x-python",
   "name": "python",
   "nbconvert_exporter": "python",
   "pygments_lexer": "ipython3",
   "version": "3.7.1"
  }
 },
 "nbformat": 4,
 "nbformat_minor": 2
}
