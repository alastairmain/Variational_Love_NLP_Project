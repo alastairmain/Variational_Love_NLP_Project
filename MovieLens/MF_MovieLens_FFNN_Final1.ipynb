{
 "cells": [
  {
   "cell_type": "markdown",
   "metadata": {},
   "source": [
    "# Collaborative Filtering - Matrix Factorization\n",
    "\n",
    "This script takes user and movie ratings as input to predict a user's rating of another movie, and thus recommend it.\n",
    "\n",
    "The following code borrows heavily from the following websites\n",
    "\n",
    "https://blog.fastforwardlabs.com/2018/04/10/pytorch-for-recommenders-101.html\n",
    "\n",
    "https://www.ethanrosenthal.com/2017/06/20/matrix-factorization-in-pytorch/\n",
    "\n",
    "https://github.com/groverpr/deep-learning/blob/master/recommendation_engine/netflix_collaborative_filtering.ipynb?fbclid=IwAR0UKO20pkXMQMtkkWjoDIl9De7U2mXyr4NNKoEfc5tkT9drJMTI62-GGt8\n",
    "\n",
    "https://github.com/fastai/fastai/blob/master/courses/dl1/lesson5-movielens.ipynb?fbclid=IwAR3P7o6Dgx1aaG7aATYhxYU0VYUNFM3iVKj2L33K5pGl48DTrQGaF5AiKkg\n",
    "\n",
    "https://github.com/munkai/pytorch-tutorial/blob/master/2_intermediate/4.1-Sequences.ipynb?fbclid=IwAR39HzjKxb_l1XMczqjLIZ-qXgcL229zUta8c_pwD5uZ_YuLP2Ek8LSdZck"
   ]
  },
  {
   "cell_type": "code",
   "execution_count": 1,
   "metadata": {},
   "outputs": [],
   "source": [
    "#!pip install torchtext\n",
    "#!pip install torch"
   ]
  },
  {
   "cell_type": "code",
   "execution_count": 2,
   "metadata": {},
   "outputs": [],
   "source": [
    "#### Packages ####\n",
    "import torch\n",
    "import pandas as pd\n",
    "import torch.nn as nn\n",
    "import torch.optim as optim\n",
    "import torch.nn.functional as F\n",
    "import numpy as np\n",
    "import matplotlib.pyplot as plt\n",
    "from torch.autograd import Variable\n",
    "from torch.utils.data import Dataset, DataLoader"
   ]
  },
  {
   "cell_type": "code",
   "execution_count": 3,
   "metadata": {},
   "outputs": [],
   "source": [
    "#### Loading dataset ####\n",
    "# We are only interested in user ID, movie ID and ratings\n",
    "ratings_df = pd.read_csv('ratings_small.csv', usecols = ['userId','movieId','rating'])"
   ]
  },
  {
   "cell_type": "code",
   "execution_count": 4,
   "metadata": {},
   "outputs": [
    {
     "name": "stdout",
     "output_type": "stream",
     "text": [
      "Printing head of dataset with new IDs: \n"
     ]
    },
    {
     "data": {
      "text/html": [
       "<div>\n",
       "<style scoped>\n",
       "    .dataframe tbody tr th:only-of-type {\n",
       "        vertical-align: middle;\n",
       "    }\n",
       "\n",
       "    .dataframe tbody tr th {\n",
       "        vertical-align: top;\n",
       "    }\n",
       "\n",
       "    .dataframe thead th {\n",
       "        text-align: right;\n",
       "    }\n",
       "</style>\n",
       "<table border=\"1\" class=\"dataframe\">\n",
       "  <thead>\n",
       "    <tr style=\"text-align: right;\">\n",
       "      <th></th>\n",
       "      <th>userId</th>\n",
       "      <th>movieId</th>\n",
       "      <th>rating</th>\n",
       "    </tr>\n",
       "  </thead>\n",
       "  <tbody>\n",
       "    <tr>\n",
       "      <th>0</th>\n",
       "      <td>0</td>\n",
       "      <td>0</td>\n",
       "      <td>2.5</td>\n",
       "    </tr>\n",
       "    <tr>\n",
       "      <th>1</th>\n",
       "      <td>0</td>\n",
       "      <td>1</td>\n",
       "      <td>3.0</td>\n",
       "    </tr>\n",
       "    <tr>\n",
       "      <th>2</th>\n",
       "      <td>0</td>\n",
       "      <td>2</td>\n",
       "      <td>3.0</td>\n",
       "    </tr>\n",
       "    <tr>\n",
       "      <th>3</th>\n",
       "      <td>0</td>\n",
       "      <td>3</td>\n",
       "      <td>2.0</td>\n",
       "    </tr>\n",
       "    <tr>\n",
       "      <th>4</th>\n",
       "      <td>0</td>\n",
       "      <td>4</td>\n",
       "      <td>4.0</td>\n",
       "    </tr>\n",
       "  </tbody>\n",
       "</table>\n",
       "</div>"
      ],
      "text/plain": [
       "   userId  movieId  rating\n",
       "0       0        0     2.5\n",
       "1       0        1     3.0\n",
       "2       0        2     3.0\n",
       "3       0        3     2.0\n",
       "4       0        4     4.0"
      ]
     },
     "execution_count": 4,
     "metadata": {},
     "output_type": "execute_result"
    }
   ],
   "source": [
    "#### Creating new indices ####\n",
    "def zero_indexing(column):\n",
    "    uniq = column.unique()\n",
    "    newindex = {o:i for i,o in enumerate(uniq)}\n",
    "    # Subtracting 1 from the original ID's\n",
    "    return newindex, np.array([newindex.get(x, -1) for x in column])\n",
    "\n",
    "_,usercol = zero_indexing(ratings_df[\"userId\"])\n",
    "_,moviecol = zero_indexing(ratings_df[\"movieId\"])\n",
    "\n",
    "ratings_df[\"userId\"] = usercol\n",
    "ratings_df[\"movieId\"] = moviecol\n",
    "\n",
    "# Removing ID's which are less than 0\n",
    "ratings_dataset = ratings_df[ratings_df[\"userId\"] >= 0]\n",
    "ratings_dataset = ratings_df[ratings_df[\"movieId\"] >= 0]\n",
    "\n",
    "print(\"Printing head of dataset with new IDs: \")\n",
    "ratings_dataset.head()"
   ]
  },
  {
   "cell_type": "code",
   "execution_count": 5,
   "metadata": {},
   "outputs": [
    {
     "name": "stdout",
     "output_type": "stream",
     "text": [
      "Entire dataset:  100004\n",
      "Train size:  70001\n",
      "Validation size:  20001\n",
      "Test size:  10002\n",
      "Checking if dimensions match:  True\n"
     ]
    }
   ],
   "source": [
    "#### Splitting dataset into training, validation and test sets ####\n",
    "n = len(ratings_dataset)\n",
    "sizes = [0.7, 0.2, 0.1]\n",
    "train_size = int(sizes[0]*n)\n",
    "val_size = int(sizes[1]*n)\n",
    "test_size = int(sizes[2]*n)\n",
    "\n",
    "train_set = ratings_dataset[:train_size-1].copy() # till 70002-1 = 70001\n",
    "val_set = ratings_dataset[train_size:-test_size-1].copy() # from 70002 to 100.004 - 20000\n",
    "test_set = ratings_dataset[train_size+val_size:].copy() # from train+val size\n",
    "\n",
    "print(\"Entire dataset: \", n)\n",
    "print(\"Train size: \", train_set.shape[0])\n",
    "print(\"Validation size: \", val_set.shape[0])\n",
    "print(\"Test size: \", test_set.shape[0])\n",
    "print(\"Checking if dimensions match: \", train_set.shape[0] + val_set.shape[0] + test_set.shape[0] == n )"
   ]
  },
  {
   "cell_type": "code",
   "execution_count": 6,
   "metadata": {},
   "outputs": [],
   "source": [
    "#### Creating a dataformatting to format the data ####\n",
    "class dataformatting(Dataset):\n",
    "    def __init__(self, users, movies, rating):\n",
    "        self.movies = movies\n",
    "        self.users = users\n",
    "        self.rating = rating\n",
    "        \n",
    "    def __len__(self):\n",
    "        return len(self.rating)\n",
    "\n",
    "    def __getitem__(self, index):\n",
    "        u = self.users[index]\n",
    "        m = self.movies[index]\n",
    "        r = self.rating[index]\n",
    "        return [u, m, r]"
   ]
  },
  {
   "cell_type": "code",
   "execution_count": 7,
   "metadata": {},
   "outputs": [],
   "source": [
    "#### Formatting training, validation and training sets ####\n",
    "u_train = torch.LongTensor(train_set.userId.values)\n",
    "m_train = torch.LongTensor(train_set.movieId.values)\n",
    "r_train = torch.FloatTensor(train_set.rating.values)\n",
    "\n",
    "train_dataset = dataformatting(u_train, m_train, r_train)\n",
    "train_iter = torch.utils.data.DataLoader(train_dataset, batch_size=50, shuffle=True)\n",
    "\n",
    "u_val = torch.LongTensor(val_set.userId.values)\n",
    "m_val = torch.LongTensor(val_set.movieId.values)\n",
    "r_val = torch.FloatTensor(val_set.rating.values)\n",
    "val_dataset = dataformatting(u_val, m_val,r_val)\n",
    "val_iter = torch.utils.data.DataLoader(val_dataset, batch_size=50, shuffle=True)\n",
    "\n",
    "u_test = torch.LongTensor(test_set.userId.values)\n",
    "m_test = torch.LongTensor(test_set.movieId.values)\n",
    "r_test = torch.FloatTensor(test_set.rating.values)\n",
    "test_dataset = dataformatting(u_test, m_test, r_test)\n",
    "test_iter = torch.utils.data.DataLoader(test_dataset, batch_size=50, shuffle=True)"
   ]
  },
  {
   "cell_type": "code",
   "execution_count": 8,
   "metadata": {},
   "outputs": [],
   "source": [
    "#### Hyper parameters ####\n",
    "num_user = len(ratings_dataset.userId.unique()) \n",
    "num_movie = len(ratings_dataset.movieId.unique())\n",
    "emb_size = 100\n",
    "n_hidden_1 = 1500\n",
    "n_hidden_2 = 800\n",
    "p_dropout = 0.2\n",
    "r_max = 5\n",
    "r_min = 1\n",
    "\n",
    "# Matrix Factorization\n",
    "class MatrixFactorization(nn.Module):\n",
    "    def __init__(self, num_users, num_items):\n",
    "        super(MatrixFactorization, self).__init__()\n",
    "        # Embeddings\n",
    "        self.user_emb = nn.Embedding(num_users, emb_size)\n",
    "        self.item_emb = nn.Embedding(num_items, emb_size)\n",
    "        \n",
    "        # Linear Layers\n",
    "        self.lin1 = nn.Linear(emb_size*2, n_hidden_1, bias = True)\n",
    "        self.lin2 = nn.Linear(n_hidden_1, n_hidden_2, bias = True)\n",
    "        self.lin3 = nn.Linear(n_hidden_2, 1)\n",
    "        \n",
    "        # Dropout\n",
    "        self.drop = nn.Dropout(p_dropout)\n",
    "        \n",
    "    def forward(self, u, v):\n",
    "        # FFNN\n",
    "        U = self.user_emb(u)\n",
    "        V = self.item_emb(v)\n",
    "        \n",
    "        x = F.relu(torch.cat([U, V], dim=1))\n",
    "        x = self.drop(x)\n",
    "        \n",
    "        x = F.relu(self.lin1(x))\n",
    "        x = self.drop(x)\n",
    "        \n",
    "        x = F.relu(self.lin2(x))\n",
    "        x = self.drop(x)\n",
    "        \n",
    "        x = self.lin3(x)\n",
    "        \n",
    "        return torch.sigmoid(x)*(r_max-r_min) + r_min"
   ]
  },
  {
   "cell_type": "code",
   "execution_count": 9,
   "metadata": {},
   "outputs": [],
   "source": [
    "## Training loop\n",
    "def training(MF, train_iter, optimizer, criterion, epoch):\n",
    "    MF.train()\n",
    "    trainloss = 0\n",
    "    \n",
    "    for index, data in enumerate(train_iter):\n",
    "        users, items, ratings = data\n",
    "        batch_size = len(users)\n",
    "        users = users.long()\n",
    "        items = items.long()\n",
    "        ratings = ratings.float()      \n",
    "        ratings = ratings.view(-1)\n",
    "        optimizer.zero_grad()\n",
    "        out = MF(users, items)\n",
    "        out = out.view(-1)\n",
    "        loss = criterion(out.float(), ratings)\n",
    "        loss.backward()\n",
    "        optimizer.step()\n",
    "        \n",
    "        trainloss += loss.item()\n",
    "        \n",
    "    return trainloss/len(train_iter)\n",
    "\n",
    "def validate(MF, val_iter, criterion, epoch):\n",
    "    MF.eval()\n",
    "    valloss = 0\n",
    "    with torch.no_grad():\n",
    "        for batch_idx, data in enumerate(val_iter):\n",
    "            users, items, ratings = data\n",
    "            batch_size = len(users)\n",
    "            users = users.long()\n",
    "            items = items.long()\n",
    "            ratings = ratings.float()\n",
    "            ratings = ratings.unsqueeze(1)\n",
    "            out = MF(users, items)\n",
    "            loss = criterion(out.float(), ratings)\n",
    "            valloss+=loss.item()\n",
    "\n",
    "    return valloss/len(val_iter)\n",
    "\n",
    "def trainLoop(epochs, lr=0.001, wd = 1e-6):\n",
    "    # Defining model    \n",
    "    MF = MatrixFactorization(num_user, num_movie)\n",
    "    criterion = nn.MSELoss()\n",
    "    optimizer = optim.Adam(filter(lambda p: p.requires_grad, MF.parameters()), lr=lr, weight_decay = wd)\n",
    "    \n",
    "    lossestrain = []\n",
    "    lossesval = []\n",
    "    \n",
    "    for epoch in range(1, epochs + 1):\n",
    "        trainloss = training(MF, train_iter, optimizer, criterion, epoch)\n",
    "        valloss = validate(MF, val_iter, criterion, epoch)\n",
    "        \n",
    "        lossestrain += [trainloss]\n",
    "        lossesval += [valloss]\n",
    "        print(f'Epoch {epoch}: Training loss: {trainloss:2.5f} | Validation loss: {valloss:2.5f}')\n",
    "\n",
    "    #### Plots ####\n",
    "    plt.plot(range(1,epoch+1),lossestrain)\n",
    "    plt.plot(range(1,epoch+1),lossesval)\n",
    "    plt.xlabel('Epochs'), plt.ylabel('Loss')\n",
    "    plt.legend(['Training loss','Validation loss'], loc = 1)\n",
    "    plt.show()"
   ]
  },
  {
   "cell_type": "code",
   "execution_count": 10,
   "metadata": {
    "scrolled": false
   },
   "outputs": [
    {
     "name": "stdout",
     "output_type": "stream",
     "text": [
      "Epoch 1: Training loss: 0.99389 | Validation loss: 0.98220\n",
      "Epoch 2: Training loss: 0.89542 | Validation loss: 1.03417\n",
      "Epoch 3: Training loss: 0.83409 | Validation loss: 0.96399\n",
      "Epoch 4: Training loss: 0.79256 | Validation loss: 0.98526\n",
      "Epoch 5: Training loss: 0.75507 | Validation loss: 0.98870\n",
      "Epoch 6: Training loss: 0.72493 | Validation loss: 0.96651\n",
      "Epoch 7: Training loss: 0.69399 | Validation loss: 1.04522\n",
      "Epoch 8: Training loss: 0.67003 | Validation loss: 1.11077\n",
      "Epoch 9: Training loss: 0.64731 | Validation loss: 1.15267\n",
      "Epoch 10: Training loss: 0.62448 | Validation loss: 1.18373\n",
      "Epoch 11: Training loss: 0.60335 | Validation loss: 1.06280\n",
      "Epoch 12: Training loss: 0.58469 | Validation loss: 1.16664\n",
      "Epoch 13: Training loss: 0.56476 | Validation loss: 1.20868\n",
      "Epoch 14: Training loss: 0.54465 | Validation loss: 1.16488\n",
      "Epoch 15: Training loss: 0.52859 | Validation loss: 1.37609\n",
      "Epoch 16: Training loss: 0.51085 | Validation loss: 1.31134\n",
      "Epoch 17: Training loss: 0.49290 | Validation loss: 1.40031\n",
      "Epoch 18: Training loss: 0.48133 | Validation loss: 1.31087\n",
      "Epoch 19: Training loss: 0.46571 | Validation loss: 1.34839\n",
      "Epoch 20: Training loss: 0.44979 | Validation loss: 1.33366\n",
      "Epoch 21: Training loss: 0.43649 | Validation loss: 1.45097\n",
      "Epoch 22: Training loss: 0.42475 | Validation loss: 1.53698\n",
      "Epoch 23: Training loss: 0.41712 | Validation loss: 1.40794\n",
      "Epoch 24: Training loss: 0.40363 | Validation loss: 1.51543\n",
      "Epoch 25: Training loss: 0.39415 | Validation loss: 1.56522\n",
      "Epoch 26: Training loss: 0.38884 | Validation loss: 1.47619\n",
      "Epoch 27: Training loss: 0.37819 | Validation loss: 1.46933\n",
      "Epoch 28: Training loss: 0.36841 | Validation loss: 1.39787\n",
      "Epoch 29: Training loss: 0.36118 | Validation loss: 1.46405\n",
      "Epoch 30: Training loss: 0.35449 | Validation loss: 1.56603\n"
     ]
    },
    {
     "data": {
      "image/png": "[encoded data removed]",
      "text/plain": [
       "<Figure size 432x288 with 1 Axes>"
      ]
     },
     "metadata": {
      "needs_background": "light"
     },
     "output_type": "display_data"
    }
   ],
   "source": [
    "#### All Systems Go! ####\n",
    "trainLoop(epochs = 30, lr = 0.001, wd = 1e-6)"
   ]
  }
 ],
 "metadata": {
  "kernelspec": {
   "display_name": "Python 3",
   "language": "python",
   "name": "python3"
  },
  "language_info": {
   "codemirror_mode": {
    "name": "ipython",
    "version": 3
   },
   "file_extension": ".py",
   "mimetype": "text/x-python",
   "name": "python",
   "nbconvert_exporter": "python",
   "pygments_lexer": "ipython3",
   "version": "3.6.6"
  }
 },
 "nbformat": 4,
 "nbformat_minor": 2
}
