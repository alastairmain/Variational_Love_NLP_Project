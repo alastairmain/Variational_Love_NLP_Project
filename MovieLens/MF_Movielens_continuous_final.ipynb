{
 "cells": [
  {
   "cell_type": "markdown",
   "metadata": {},
   "source": [
    "# Collaborative Filtering - Matrix factorization\n",
    "This script takes user and movie ratings as input to predict a user's rating of another movie, and thus recommend it.\n",
    "\n",
    "The Following code borrows heavily from the following websites\n",
    "\n",
    "https://blog.fastforwardlabs.com/2018/04/10/pytorch-for-recommenders-101.html\n",
    "\n",
    "https://www.ethanrosenthal.com/2017/06/20/matrix-factorization-in-pytorch/\n"
   ]
  },
  {
   "cell_type": "code",
   "execution_count": 1,
   "metadata": {},
   "outputs": [],
   "source": [
    "#!pip install torchtext\n",
    "#!pip install torch"
   ]
  },
  {
   "cell_type": "code",
   "execution_count": 2,
   "metadata": {},
   "outputs": [],
   "source": [
    "#### Packages ####\n",
    "import torch\n",
    "import pandas as pd\n",
    "import torch.nn as nn\n",
    "import torch.optim as optim\n",
    "import torch.nn.functional as F\n",
    "import numpy as np\n",
    "import matplotlib.pyplot as plt\n",
    "from torch.autograd import Variable\n",
    "from torch.utils.data import Dataset, DataLoader"
   ]
  },
  {
   "cell_type": "code",
   "execution_count": 3,
   "metadata": {},
   "outputs": [],
   "source": [
    "#### Loading dataset ####\n",
    "# We are only interested in user ID, movie ID and ratings\n",
    "ratings_df = pd.read_csv('ratings_small.csv', usecols = ['userId','movieId','rating'])"
   ]
  },
  {
   "cell_type": "code",
   "execution_count": 4,
   "metadata": {},
   "outputs": [
    {
     "name": "stdout",
     "output_type": "stream",
     "text": [
      "Printing head of dataset with new IDs: \n"
     ]
    },
    {
     "data": {
      "text/html": [
       "<div>\n",
       "<style scoped>\n",
       "    .dataframe tbody tr th:only-of-type {\n",
       "        vertical-align: middle;\n",
       "    }\n",
       "\n",
       "    .dataframe tbody tr th {\n",
       "        vertical-align: top;\n",
       "    }\n",
       "\n",
       "    .dataframe thead th {\n",
       "        text-align: right;\n",
       "    }\n",
       "</style>\n",
       "<table border=\"1\" class=\"dataframe\">\n",
       "  <thead>\n",
       "    <tr style=\"text-align: right;\">\n",
       "      <th></th>\n",
       "      <th>userId</th>\n",
       "      <th>movieId</th>\n",
       "      <th>rating</th>\n",
       "    </tr>\n",
       "  </thead>\n",
       "  <tbody>\n",
       "    <tr>\n",
       "      <th>0</th>\n",
       "      <td>0</td>\n",
       "      <td>0</td>\n",
       "      <td>2.5</td>\n",
       "    </tr>\n",
       "    <tr>\n",
       "      <th>1</th>\n",
       "      <td>0</td>\n",
       "      <td>1</td>\n",
       "      <td>3.0</td>\n",
       "    </tr>\n",
       "    <tr>\n",
       "      <th>2</th>\n",
       "      <td>0</td>\n",
       "      <td>2</td>\n",
       "      <td>3.0</td>\n",
       "    </tr>\n",
       "    <tr>\n",
       "      <th>3</th>\n",
       "      <td>0</td>\n",
       "      <td>3</td>\n",
       "      <td>2.0</td>\n",
       "    </tr>\n",
       "    <tr>\n",
       "      <th>4</th>\n",
       "      <td>0</td>\n",
       "      <td>4</td>\n",
       "      <td>4.0</td>\n",
       "    </tr>\n",
       "  </tbody>\n",
       "</table>\n",
       "</div>"
      ],
      "text/plain": [
       "   userId  movieId  rating\n",
       "0       0        0     2.5\n",
       "1       0        1     3.0\n",
       "2       0        2     3.0\n",
       "3       0        3     2.0\n",
       "4       0        4     4.0"
      ]
     },
     "execution_count": 4,
     "metadata": {},
     "output_type": "execute_result"
    }
   ],
   "source": [
    "#### Creating new indices ####\n",
    "def zero_indexing(column):\n",
    "    uniq = column.unique()\n",
    "    newindex = {o:i for i,o in enumerate(uniq)}\n",
    "    # Subtracting 1 from the original ID's\n",
    "    return newindex, np.array([newindex.get(x, -1) for x in column])\n",
    "\n",
    "_,usercol = zero_indexing(ratings_df[\"userId\"])\n",
    "_,moviecol = zero_indexing(ratings_df[\"movieId\"])\n",
    "\n",
    "ratings_df[\"userId\"] = usercol\n",
    "ratings_df[\"movieId\"] = moviecol\n",
    "\n",
    "# Removing ID's which are less than 0\n",
    "ratings_dataset = ratings_df[ratings_df[\"userId\"] >= 0]\n",
    "ratings_dataset = ratings_df[ratings_df[\"movieId\"] >= 0]\n",
    "\n",
    "print(\"Printing head of dataset with new IDs: \")\n",
    "ratings_dataset.head()"
   ]
  },
  {
   "cell_type": "code",
   "execution_count": 5,
   "metadata": {},
   "outputs": [
    {
     "name": "stdout",
     "output_type": "stream",
     "text": [
      "Entire dataset:  100004\n",
      "Train size:  70001\n",
      "Validation size:  20001\n",
      "Test size:  10002\n",
      "Checking if dimensions match:  True\n"
     ]
    }
   ],
   "source": [
    "#### Splitting dataset into training, validation and test sets ####\n",
    "n = len(ratings_dataset)\n",
    "sizes = [0.7, 0.2, 0.1]\n",
    "train_size = int(sizes[0]*n)\n",
    "val_size = int(sizes[1]*n)\n",
    "test_size = int(sizes[2]*n)\n",
    "\n",
    "train_set = ratings_dataset[:train_size-1].copy() # till 70002-1 = 70001\n",
    "val_set = ratings_dataset[train_size:-test_size-1].copy() # from 70002 to 100.004 - 20000\n",
    "test_set = ratings_dataset[train_size+val_size:].copy() # from train+val size\n",
    "\n",
    "print(\"Entire dataset: \", n)\n",
    "print(\"Train size: \", train_set.shape[0])\n",
    "print(\"Validation size: \", val_set.shape[0])\n",
    "print(\"Test size: \", test_set.shape[0])\n",
    "print(\"Checking if dimensions match: \", train_set.shape[0] + val_set.shape[0] + test_set.shape[0] == n )"
   ]
  },
  {
   "cell_type": "code",
   "execution_count": 6,
   "metadata": {},
   "outputs": [],
   "source": [
    "#### Creating a dataformatting to format the data ####\n",
    "class dataformatting(Dataset):\n",
    "    def __init__(self, users, movies, rating):\n",
    "        self.movies = movies\n",
    "        self.users = users\n",
    "        self.rating = rating\n",
    "        \n",
    "    def __len__(self):\n",
    "        return len(self.rating)\n",
    "\n",
    "    def __getitem__(self, index):\n",
    "        u = self.users[index]\n",
    "        m = self.movies[index]\n",
    "        r = self.rating[index]\n",
    "        return [u, m, r]"
   ]
  },
  {
   "cell_type": "code",
   "execution_count": 7,
   "metadata": {},
   "outputs": [],
   "source": [
    "#### Formatting training, validation and training sets ####\n",
    "u_train = torch.LongTensor(train_set.userId.values)\n",
    "m_train = torch.LongTensor(train_set.movieId.values)\n",
    "r_train = torch.FloatTensor(train_set.rating.values)\n",
    "\n",
    "train_dataset = dataformatting(u_train, m_train, r_train)\n",
    "train_iter = torch.utils.data.DataLoader(train_dataset, batch_size=100, shuffle=True)\n",
    "\n",
    "u_val = torch.LongTensor(val_set.userId.values)\n",
    "m_val = torch.LongTensor(val_set.movieId.values)\n",
    "r_val = torch.FloatTensor(val_set.rating.values)\n",
    "val_dataset = dataformatting(u_val, m_val,r_val)\n",
    "val_iter = torch.utils.data.DataLoader(val_dataset, batch_size=100, shuffle=True)\n",
    "\n",
    "u_test = torch.LongTensor(test_set.userId.values)\n",
    "m_test = torch.LongTensor(test_set.movieId.values)\n",
    "r_test = torch.FloatTensor(test_set.rating.values)\n",
    "test_dataset = dataformatting(u_test, m_test, r_test)\n",
    "test_iter = torch.utils.data.DataLoader(test_dataset, batch_size=100, shuffle=True)"
   ]
  },
  {
   "cell_type": "code",
   "execution_count": 8,
   "metadata": {},
   "outputs": [],
   "source": [
    "num_user = len(ratings_dataset.userId.unique()) \n",
    "num_movie = len(ratings_dataset.movieId.unique())\n",
    "emb_size = 10\n",
    "\n",
    "class MatrixFactorization(nn.Module):\n",
    "    def __init__(self, num_user, num_movie):\n",
    "        super(MatrixFactorization, self).__init__()\n",
    "        self.user_embedding = nn.Embedding(num_user, emb_size)\n",
    "        self.movie_embedding = nn.Embedding(num_movie, emb_size)\n",
    "        \n",
    "    def forward(self, u, m):\n",
    "        U = self.user_embedding(u)\n",
    "        M = self.movie_embedding(m)\n",
    "        r_max = 5 # maximum rating\n",
    "        r_min = 1 # minimum rating\n",
    "        res = torch.sigmoid((U*M).sum(1))*(r_max - r_min) + r_min\n",
    "        return res"
   ]
  },
  {
   "cell_type": "code",
   "execution_count": 9,
   "metadata": {},
   "outputs": [],
   "source": [
    "## Training loop\n",
    "def train(model, train_iter, optimizer, criterion, epoch):\n",
    "    model.train()\n",
    "    train_loss = 0\n",
    "    \n",
    "    for batch_idx, data in enumerate(train_iter):\n",
    "        \n",
    "        users, items, ratings = data\n",
    "        batch_size = len(users)\n",
    "        users = users.long()\n",
    "        items = items.long()\n",
    "        ratings = ratings.float()      \n",
    "        ratings = ratings.view(-1)\n",
    "        optimizer.zero_grad()\n",
    "        \n",
    "        output = model(users, items)\n",
    "        output = output.view(-1)\n",
    "        loss = criterion(output.float(), ratings)\n",
    "        loss.backward()\n",
    "        optimizer.step()\n",
    "        \n",
    "        train_loss += loss.item()\n",
    "        \n",
    "    return train_loss/len(train_iter)\n",
    "\n",
    "def validate(model, val_iter, criterion, epoch):\n",
    "    model.eval()\n",
    "    val_loss = 0\n",
    "    with torch.no_grad():\n",
    "        for batch_idx, data in enumerate(val_iter):\n",
    "            users, items, ratings = data\n",
    "            batch_size = len(users)\n",
    "            users = users.long()\n",
    "            items = items.long()\n",
    "            ratings = ratings.float()\n",
    "            ratings = ratings.view(-1)\n",
    "            \n",
    "            output = model(users, items)\n",
    "            loss = criterion(output.float(), ratings)\n",
    "            val_loss+=loss.item()\n",
    "\n",
    "    return val_loss/len(val_iter)\n",
    "\n",
    "def trainLoop(epochs, lr=0.001, wd = 1e-6):\n",
    "    # Defining model    \n",
    "    model = MatrixFactorization(num_user, num_movie)\n",
    "    criterion = nn.MSELoss()\n",
    "    optimizer = optim.Adam(filter(lambda p: p.requires_grad, model.parameters()), lr=lr, weight_decay = wd)\n",
    "    accstrain = []\n",
    "    lossestrain = []\n",
    "    \n",
    "    accsval = []\n",
    "    lossesval = []\n",
    "\n",
    "    best_acc = (-1.000005,-1e16,1e16)\n",
    "    best_loss = (-1.00005,-1e16,1e16)\n",
    "    \n",
    "    for epoch in range(1, epochs + 1):\n",
    "        train_loss = train(model, train_iter, optimizer, criterion, epoch)\n",
    "        val_loss = validate(model, val_iter, criterion, epoch)\n",
    "        \n",
    "        lossestrain += [train_loss]\n",
    "        lossesval += [val_loss]\n",
    "        #print(train_loss)\n",
    "        #print(lossestrain)\n",
    "        print(f'Epoch: {epoch} : Train average loss: {train_loss:.2f}| Validation average loss: {val_loss:.2f}')\n",
    "        #print(f'Epoch {epoch}: | Validation average loss: {lossesval:.2f}')\n",
    "\n",
    "    #### Plots ####\n",
    "    plt.figure()   \n",
    "    plt.plot(range(1, epoch+1),lossestrain, 'r', range(1,epoch+1),lossesval, 'b')\n",
    "    plt.legend(['Training loss','Validation loss'])\n",
    "    plt.xlabel('Epochs'), plt.ylabel('Loss')\n"
   ]
  },
  {
   "cell_type": "code",
   "execution_count": 10,
   "metadata": {
    "scrolled": false
   },
   "outputs": [
    {
     "name": "stdout",
     "output_type": "stream",
     "text": [
      "Epoch: 1 : Train average loss: 3.45| Validation average loss: 2.63\n",
      "Epoch: 2 : Train average loss: 3.20| Validation average loss: 2.00\n",
      "Epoch: 3 : Train average loss: 2.96| Validation average loss: 1.64\n",
      "Epoch: 4 : Train average loss: 2.73| Validation average loss: 1.52\n",
      "Epoch: 5 : Train average loss: 2.51| Validation average loss: 1.44\n",
      "Epoch: 6 : Train average loss: 2.32| Validation average loss: 1.43\n",
      "Epoch: 7 : Train average loss: 2.14| Validation average loss: 1.42\n",
      "Epoch: 8 : Train average loss: 1.99| Validation average loss: 1.42\n",
      "Epoch: 9 : Train average loss: 1.87| Validation average loss: 1.42\n",
      "Epoch: 10 : Train average loss: 1.76| Validation average loss: 1.42\n",
      "Epoch: 11 : Train average loss: 1.66| Validation average loss: 1.42\n",
      "Epoch: 12 : Train average loss: 1.58| Validation average loss: 1.42\n",
      "Epoch: 13 : Train average loss: 1.50| Validation average loss: 1.42\n",
      "Epoch: 14 : Train average loss: 1.42| Validation average loss: 1.42\n",
      "Epoch: 15 : Train average loss: 1.35| Validation average loss: 1.42\n",
      "Epoch: 16 : Train average loss: 1.27| Validation average loss: 1.43\n",
      "Epoch: 17 : Train average loss: 1.20| Validation average loss: 1.42\n",
      "Epoch: 18 : Train average loss: 1.13| Validation average loss: 1.43\n",
      "Epoch: 19 : Train average loss: 1.06| Validation average loss: 1.43\n",
      "Epoch: 20 : Train average loss: 1.01| Validation average loss: 1.44\n",
      "Epoch: 21 : Train average loss: 0.92| Validation average loss: 1.41\n",
      "Epoch: 22 : Train average loss: 0.86| Validation average loss: 1.42\n",
      "Epoch: 23 : Train average loss: 0.81| Validation average loss: 1.42\n",
      "Epoch: 24 : Train average loss: 0.77| Validation average loss: 1.41\n",
      "Epoch: 25 : Train average loss: 0.73| Validation average loss: 1.41\n",
      "Epoch: 26 : Train average loss: 0.69| Validation average loss: 1.43\n",
      "Epoch: 27 : Train average loss: 0.66| Validation average loss: 1.41\n",
      "Epoch: 28 : Train average loss: 0.64| Validation average loss: 1.43\n",
      "Epoch: 29 : Train average loss: 0.61| Validation average loss: 1.42\n",
      "Epoch: 30 : Train average loss: 0.59| Validation average loss: 1.41\n"
     ]
    },
    {
     "data": {
      "image/png": "[encoded data removed]",
      "text/plain": [
       "<Figure size 432x288 with 1 Axes>"
      ]
     },
     "metadata": {
      "needs_background": "light"
     },
     "output_type": "display_data"
    }
   ],
   "source": [
    "#### All Systems Go! ####\n",
    "trainLoop(epochs = 30, lr = 0.001, wd = 1e-5)"
   ]
  }
 ],
 "metadata": {
  "kernelspec": {
   "display_name": "Python 3",
   "language": "python",
   "name": "python3"
  },
  "language_info": {
   "codemirror_mode": {
    "name": "ipython",
    "version": 3
   },
   "file_extension": ".py",
   "mimetype": "text/x-python",
   "name": "python",
   "nbconvert_exporter": "python",
   "pygments_lexer": "ipython3",
   "version": "3.7.1"
  }
 },
 "nbformat": 4,
 "nbformat_minor": 2
}
