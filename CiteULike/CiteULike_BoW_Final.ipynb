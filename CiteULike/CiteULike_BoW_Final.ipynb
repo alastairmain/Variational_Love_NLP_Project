{
 "cells": [
  {
   "cell_type": "markdown",
   "metadata": {},
   "source": [
    "# Recommender Systems - Bag of Words\n",
    "\n",
    "The following script attempts to predict whether a user will be interested in a scientific article or not by using Bag of Words. \n",
    "To do this the CiteULike dataset is used. the dataset contains the previous interactions between users and other scientific artiles. Using embeddings for users and items a prediction can be done. \n",
    "The following BoW model uses the article titles.\n",
    "\n",
    "The following code borrows heavily from the following websites\n",
    "\n",
    "https://github.com/DeepLearningDTU/02456-deep-learning-with-PyTorch/blob/master/3_Recurrent/3.1-Sequencial-Data.ipynb\n",
    "\n",
    "https://github.com/pytorch/text \n",
    "\n",
    "http://anie.me/On-Torchtext/\n",
    "\n",
    "https://towardsdatascience.com/use-torchtext-to-load-nlp-datasets-part-i-5da6f1c89d84?fbclid=IwAR0cV9dnv4P5snK_SONbKUJ7lP4dlw1lAifju2OwS-gJ6aaKgarXuIDatuk\n",
    "\n",
    "https://towardsdatascience.com/use-torchtext-to-load-nlp-datasets-part-i-5da6f1c89d84?fbclid=IwAR0EyyeiCQMUtThSBMqhmI1ObQiuExKmbKM1g_kk7MfykENDVY4BEzB3v-4\n"
   ]
  },
  {
   "cell_type": "code",
   "execution_count": 1,
   "metadata": {
    "scrolled": true
   },
   "outputs": [],
   "source": [
    "#!pip install torchtext\n",
    "#!pip install torch"
   ]
  },
  {
   "cell_type": "code",
   "execution_count": 2,
   "metadata": {},
   "outputs": [],
   "source": [
    "#### Packages ####\n",
    "import pandas as pd\n",
    "import numpy as np\n",
    "import spacy\n",
    "import torch\n",
    "import torch.nn.functional as F\n",
    "import torch.optim as optim\n",
    "import matplotlib.pyplot as plt\n",
    "import warnings\n",
    "warnings.filterwarnings('ignore')\n",
    "\n",
    "from pprint import pprint\n",
    "from torch.autograd import Variable\n",
    "from torch import nn\n",
    "from random import shuffle\n",
    "from torch.nn import Linear\n",
    "from torch.nn.functional import softmax, relu\n",
    "from torchtext.data import Dataset, BucketIterator, Field, TabularDataset, Iterator\n",
    "from torchtext.vocab import Vocab"
   ]
  },
  {
   "cell_type": "code",
   "execution_count": 3,
   "metadata": {},
   "outputs": [],
   "source": [
    "#### Function to return numpy array ####\n",
    "def get_numpy(x):\n",
    "    return x.data.numpy()"
   ]
  },
  {
   "cell_type": "code",
   "execution_count": 4,
   "metadata": {},
   "outputs": [],
   "source": [
    "#### Read datasets ####\n",
    "CiteULike_data = pd.read_csv(\"raw-data.csv\")\n",
    "\n",
    "#### Loading small dataset for speed ####\n",
    "User_info = pd.read_csv(\"user-info-small.csv\")\n",
    "\n",
    "#### Create function for index moving ####\n",
    "def zero_indexing(nparr):\n",
    "    # Function moves index of users etc 1 down (python is 0-indexed)\n",
    "    uniq = np.unique(nparr)\n",
    "    name2idx = {o:i for i,o in enumerate(uniq)}\n",
    "    return np.array([name2idx[o] for o in nparr]), uniq\n",
    "\n",
    "#### Move index, shuffle ####\n",
    "User_info[\"user.id\"], uniq = zero_indexing(User_info[\"user.id\"].values)\n",
    "User_info = User_info.sample(frac=1)\n",
    "\n",
    "#### Replace doc.id with title of article ####\n",
    "User_info[\"doc.id\"] = [CiteULike_data.iloc[int(idx),1] for idx in User_info[\"doc.id\"]]\n",
    "\n",
    "\n",
    "#### Split train, validation and test in respectively 70%,20% and 10% of the data size ####\n",
    "n = len(User_info)\n",
    "trn_len = int(n*0.7)\n",
    "val_len = int(n*0.2)\n",
    "test_len = n-trn_len-val_len\n",
    "\n",
    "train = User_info[:trn_len]\n",
    "val = User_info[trn_len:-test_len]\n",
    "test = User_info[trn_len:-val_len]"
   ]
  },
  {
   "cell_type": "code",
   "execution_count": 5,
   "metadata": {},
   "outputs": [
    {
     "data": {
      "text/html": [
       "<div>\n",
       "<style scoped>\n",
       "    .dataframe tbody tr th:only-of-type {\n",
       "        vertical-align: middle;\n",
       "    }\n",
       "\n",
       "    .dataframe tbody tr th {\n",
       "        vertical-align: top;\n",
       "    }\n",
       "\n",
       "    .dataframe thead th {\n",
       "        text-align: right;\n",
       "    }\n",
       "</style>\n",
       "<table border=\"1\" class=\"dataframe\">\n",
       "  <thead>\n",
       "    <tr style=\"text-align: right;\">\n",
       "      <th></th>\n",
       "      <th>doc.id</th>\n",
       "      <th>title</th>\n",
       "      <th>citeulike.id</th>\n",
       "      <th>raw.title</th>\n",
       "      <th>raw.abstract</th>\n",
       "    </tr>\n",
       "  </thead>\n",
       "  <tbody>\n",
       "    <tr>\n",
       "      <th>0</th>\n",
       "      <td>1</td>\n",
       "      <td>the metabolic world of escherichia coli is not...</td>\n",
       "      <td>42</td>\n",
       "      <td>The metabolic world of Escherichia coli is not...</td>\n",
       "      <td>To elucidate the organizational and evolutiona...</td>\n",
       "    </tr>\n",
       "    <tr>\n",
       "      <th>1</th>\n",
       "      <td>2</td>\n",
       "      <td>reverse engineering of biological complexity</td>\n",
       "      <td>43</td>\n",
       "      <td>Reverse Engineering of Biological Complexity</td>\n",
       "      <td>Advanced technologies and biology have extreme...</td>\n",
       "    </tr>\n",
       "    <tr>\n",
       "      <th>2</th>\n",
       "      <td>3</td>\n",
       "      <td>exploring complex networks</td>\n",
       "      <td>44</td>\n",
       "      <td>Exploring complex networks</td>\n",
       "      <td>The study of networks pervades all of science,...</td>\n",
       "    </tr>\n",
       "    <tr>\n",
       "      <th>3</th>\n",
       "      <td>4</td>\n",
       "      <td>comparative assessment of largescale data sets...</td>\n",
       "      <td>46</td>\n",
       "      <td>Comparative assessment of large-scale data set...</td>\n",
       "      <td>Comprehensive protein protein interaction maps...</td>\n",
       "    </tr>\n",
       "    <tr>\n",
       "      <th>4</th>\n",
       "      <td>5</td>\n",
       "      <td>navigation in a small world</td>\n",
       "      <td>47</td>\n",
       "      <td>Navigation in a small world</td>\n",
       "      <td>The small-world phenomenon — the principle tha...</td>\n",
       "    </tr>\n",
       "  </tbody>\n",
       "</table>\n",
       "</div>"
      ],
      "text/plain": [
       "  doc.id                                              title citeulike.id  \\\n",
       "0      1  the metabolic world of escherichia coli is not...           42   \n",
       "1      2       reverse engineering of biological complexity           43   \n",
       "2      3                         exploring complex networks           44   \n",
       "3      4  comparative assessment of largescale data sets...           46   \n",
       "4      5                        navigation in a small world           47   \n",
       "\n",
       "                                           raw.title  \\\n",
       "0  The metabolic world of Escherichia coli is not...   \n",
       "1       Reverse Engineering of Biological Complexity   \n",
       "2                         Exploring complex networks   \n",
       "3  Comparative assessment of large-scale data set...   \n",
       "4                        Navigation in a small world   \n",
       "\n",
       "                                        raw.abstract  \n",
       "0  To elucidate the organizational and evolutiona...  \n",
       "1  Advanced technologies and biology have extreme...  \n",
       "2  The study of networks pervades all of science,...  \n",
       "3  Comprehensive protein protein interaction maps...  \n",
       "4  The small-world phenomenon — the principle tha...  "
      ]
     },
     "execution_count": 5,
     "metadata": {},
     "output_type": "execute_result"
    }
   ],
   "source": [
    "#### Printing example of dataset ####\n",
    "CiteULike_data.head()"
   ]
  },
  {
   "cell_type": "code",
   "execution_count": 6,
   "metadata": {
    "scrolled": true
   },
   "outputs": [],
   "source": [
    "############ For the training dataset ############\n",
    "\n",
    "#### Defining unique coloumns and userId and removing the header #### \n",
    "uniq_items = np.unique(CiteULike_data[\"doc.id\"])[:-1]\n",
    "uniq_users = np.unique(train[\"user.id\"])[:-1]\n",
    "items = set((x[0],x[1]) for x in train[[\"user.id\",\"doc.id\"]].values)\n",
    "\n",
    "#### Find pairs in the data. Create negative samples from the missing obsevation (no interaction) ####\n",
    "pairs = []\n",
    "i = 0\n",
    "while(i < len(train)):\n",
    "    \n",
    "    item = np.random.choice(uniq_items, size = 1)[0]\n",
    "    user = np.random.choice(uniq_users, size = 1)[0]\n",
    "    if (user,item) not in items:\n",
    "        i += 1\n",
    "        pairs += [(user,item,0)]\n",
    "        items.add((user,item))\n",
    "\n",
    "User_info_Negatives = np.vstack((train, pairs))\n",
    "\n",
    "#### Create datasets and save these for later ####\n",
    "train = pd.DataFrame(data = User_info_Negatives,columns = [\"user.id\",\"doc.id\", \"rating\"])\n",
    "test.to_csv('test.csv', header = False, index = False)\n",
    "\n",
    "#### Cleanup of memory ####\n",
    "del User_info_Negatives, items, uniq_items, uniq_users, pairs, User_info, test\n",
    "\n",
    "#### Replacing the index from pairs, which have not interacted, with the title ####\n",
    "for i, idx in enumerate(train[\"doc.id\"][trn_len:]):\n",
    "    train[\"doc.id\"].loc[trn_len+i] = CiteULike_data.iloc[int(idx),1]\n",
    "\n",
    "train = train.sample(frac = 1)\n",
    "\n",
    "train.to_csv('train.csv', header = False, index = False)\n"
   ]
  },
  {
   "cell_type": "code",
   "execution_count": 7,
   "metadata": {},
   "outputs": [],
   "source": [
    "############ For the validation dataset ############\n",
    "\n",
    "#### Defining unique coloumns and userId and removing the header #### \n",
    "uniq_items = np.unique(CiteULike_data[\"doc.id\"])[:-1]\n",
    "uniq_users = np.unique(val[\"user.id\"])[:-1]\n",
    "items = set((x[0],x[1]) for x in val[[\"user.id\",\"doc.id\"]].values)\n",
    "\n",
    "#### Find pairs in the data. Create negative samples from the missing obsevation (no interaction) ####\n",
    "pairs = []\n",
    "i = 0\n",
    "while(i < len(val)):\n",
    "    \n",
    "    item = np.random.choice(uniq_items, size = 1)[0]\n",
    "    user = np.random.choice(uniq_users, size = 1)[0]\n",
    "    if (user,item) not in items:\n",
    "        i += 1\n",
    "        pairs += [(user,item,0)]\n",
    "        items.add((user,item))\n",
    "\n",
    "User_info_Negatives = np.vstack((val, pairs))\n",
    "\n",
    "#### Create datasets and save these for later\n",
    "val = pd.DataFrame(data = User_info_Negatives,columns = [\"user.id\",\"doc.id\", \"rating\"])\n",
    "\n",
    "#### Cleanup of memory\n",
    "del User_info_Negatives, items, uniq_items, uniq_users, pairs\n",
    "\n",
    "#### Replacing the index from pairs, which have not interacted, with the title ####\n",
    "for i, idx in enumerate(val[\"doc.id\"][val_len:]):\n",
    "    val[\"doc.id\"].loc[val_len+i] = CiteULike_data.iloc[int(idx),1]\n",
    "\n",
    "val = val.sample(frac = 1)\n",
    "\n",
    "val.to_csv('val.csv', header = False, index = False)"
   ]
  },
  {
   "cell_type": "markdown",
   "metadata": {},
   "source": [
    "#### Tokenization\n",
    "ID is the User_ID, TEXT is the article's title and LABEL is the rating \n",
    "\n",
    "TEXT is sequential data while lABEL and ID is not. \n",
    "Setting Text data to lower case and setting the fixed length to the maximum length so all examples will be padded according to this.\n",
    "\n",
    "For Label and ID we set use_vocab=False because it is numerical. \n",
    "include_lengths – Whether to return a tuple of a padded minibatch and a list containing the lengths of each examples, or just a padded minibatch. Default: False.\n",
    "\n",
    "reference: \n",
    "https://torchtext.readthedocs.io/en/latest/data.html#field"
   ]
  },
  {
   "cell_type": "code",
   "execution_count": 8,
   "metadata": {},
   "outputs": [
    {
     "name": "stdout",
     "output_type": "stream",
     "text": [
      "Content of first training sample:\n",
      "{'ID': '44',\n",
      " 'Label': '1',\n",
      " 'Text': ['the', 'infinite', 'hidden', 'markov', 'model']}\n"
     ]
    }
   ],
   "source": [
    "#### Load spaCy to tokenize text ####\n",
    "spacy_en = spacy.load('en')\n",
    "\n",
    "#### Define a tokenizer function ####\n",
    "def tokenizer(text):\n",
    "    return [tok.text for tok in spacy_en.tokenizer(text)]\n",
    "\n",
    "\n",
    "#### Define the three datatypes in the data ####\n",
    "TEXT = Field(sequential = True, lower = True)\n",
    "LABEL = Field(sequential = False, use_vocab = False)\n",
    "ID = Field(sequential = False, use_vocab = False)\n",
    "\n",
    "train, val, test = TabularDataset.splits(\n",
    "        path ='', train = 'train.csv',\n",
    "        validation = 'val.csv', test ='test.csv', format = 'csv',\n",
    "        fields = [('ID', ID), ('Text', TEXT), ('Label', LABEL)])\n",
    "\n",
    "\n",
    "print('Content of first training sample:')\n",
    "pprint(vars(train[0]))\n",
    "\n",
    "#### Create vocabulary using pretrained embeddings from GloVe ####\n",
    "TEXT.build_vocab(train, vectors = \"glove.6B.100d\")\n",
    "LABEL.build_vocab(train)  #contains nothing (None) -since it contains no text\n",
    "ID.build_vocab(train)     #contains nothing (None) -since it contains no text"
   ]
  },
  {
   "cell_type": "code",
   "execution_count": 9,
   "metadata": {
    "scrolled": false
   },
   "outputs": [
    {
     "name": "stdout",
     "output_type": "stream",
     "text": [
      "Text fields:\n",
      " vocabulary's embedding dimension: torch.Size([4971, 100])\n",
      " no. times the \"biology\" appear in the dataset: 36\n",
      "\n",
      "Label fields:\n",
      " list of vocabulary (int-to-str): ['<unk>', '0', '1']\n",
      " list of vocabulary (str-to-int): {'<unk>': 0, '0': 1, '1': 2}\n"
     ]
    }
   ],
   "source": [
    "#### TEXT and LABEL ####\n",
    "print('Text fields:')\n",
    "print(\" vocabulary's embedding dimension:\", TEXT.vocab.vectors.size())\n",
    "print(' no. times the \"biology\" appear in the dataset:', TEXT.vocab.freqs['biology'])\n",
    "\n",
    "print('\\nLabel fields:')\n",
    "print(\" list of vocabulary (int-to-str):\", LABEL.vocab.itos)\n",
    "print(\" list of vocabulary (str-to-int):\", dict(LABEL.vocab.stoi))\n"
   ]
  },
  {
   "cell_type": "markdown",
   "metadata": {},
   "source": [
    "#### Data iterator\n",
    "Choosing batchsize and defining the three iterators (one for train, validation and test).\n",
    "We use sort_within_batch = True to group titles with almost the sequence lengths together in one batch and sort the sequence lengths of the titles in descreasing order for each batch."
   ]
  },
  {
   "cell_type": "code",
   "execution_count": 10,
   "metadata": {
    "scrolled": true
   },
   "outputs": [],
   "source": [
    "#### Define batchsizes and create dataset splits ####\n",
    "batch_size = (30, 30, 30)\n",
    "\n",
    "#### Remebering to sort the text for speed ####\n",
    "train_iter, val_iter, test_iter = BucketIterator.splits(\n",
    "    (train, val, test), batch_sizes = batch_size, sort_key = lambda x: len(x.Text))"
   ]
  },
  {
   "cell_type": "code",
   "execution_count": 11,
   "metadata": {},
   "outputs": [
    {
     "name": "stdout",
     "output_type": "stream",
     "text": [
      "Dimension of batch's text:\n",
      "torch.Size([14, 30])\n",
      "\n",
      "First sequence in text:\n",
      "tensor([ 1299,     4,  4473,   166,     6,   319,  4061,     1,     1,\n",
      "            1,     1,     1,     1,     1])\n",
      "\n",
      "Correct label index:\n",
      "tensor(1)\n",
      "\n",
      "The actual label:\n",
      "0\n"
     ]
    }
   ],
   "source": [
    "#### Batch Information ####\n",
    "batch = next(iter(train_iter))\n",
    "print(\"Dimension of batch's text:\")\n",
    "print(batch.Text.size())\n",
    "print(\"\\nFirst sequence in text:\")\n",
    "print(batch.Text[:,0])\n",
    "print(\"\\nCorrect label index:\")\n",
    "print(batch.Label[0])\n",
    "print(\"\\nThe actual label:\")\n",
    "print( LABEL.vocab.itos[get_numpy(batch.Label[0])])\n"
   ]
  },
  {
   "cell_type": "code",
   "execution_count": 12,
   "metadata": {},
   "outputs": [
    {
     "name": "stdout",
     "output_type": "stream",
     "text": [
      "Net(\n",
      "  (embeddings): Embedding(4971, 100)\n",
      "  (l_1): Linear(in_features=100, out_features=100, bias=True)\n",
      "  (l_2): Linear(in_features=100, out_features=30, bias=True)\n",
      "  (dropout1): Dropout(p=0.5)\n",
      "  (dropout2): Dropout(p=0.5)\n",
      "  (l_out): Linear(in_features=30, out_features=3, bias=False)\n",
      ")\n"
     ]
    }
   ],
   "source": [
    "#### Embedding sizes ####\n",
    "embedding_dim = TEXT.vocab.vectors.size()[1]\n",
    "num_embeddings = TEXT.vocab.vectors.size()[0]\n",
    "num_classes = len(LABEL.vocab.itos)\n",
    "\n",
    "#### The BoW Model ####\n",
    "class Net(nn.Module):\n",
    "    def __init__(self):\n",
    "        super(Net, self).__init__()\n",
    "        self.embeddings = nn.Embedding(num_embeddings, embedding_dim)\n",
    "        # use pretrained embeddings\n",
    "        self.embeddings.weight.data.copy_(TEXT.vocab.vectors)\n",
    "        \n",
    "        # Linear layers\n",
    "        self.l_1 = Linear(in_features = embedding_dim,\n",
    "                           out_features = embedding_dim,\n",
    "                           bias = True)\n",
    "        \n",
    "        self.l_2 = Linear(in_features = embedding_dim,\n",
    "                           out_features = 30,\n",
    "                           bias = True)\n",
    "        \n",
    "        # Dropout layers\n",
    "        self.dropout1 = nn.Dropout(p = 0.5)\n",
    "        self.dropout2 = nn.Dropout(p = 0.5)\n",
    "        \n",
    "        # Output layer\n",
    "        self.l_out = Linear(in_features = 30,\n",
    "                            out_features = num_classes,\n",
    "                            bias = False)\n",
    "        \n",
    "    def forward(self, x):\n",
    "        # Make space\n",
    "        out = {}\n",
    "        # Get embeddings\n",
    "        x = self.embeddings(x)\n",
    "        \n",
    "        # Find the mean of embeddings (BoW -trick)\n",
    "        out['bow'] = x = torch.mean(x, dim=0)\n",
    "        \n",
    "        # Feed into NN\n",
    "        out['l1_activations'] = x = self.dropout1(relu(self.l_1(x)))\n",
    "        out['l2_activations'] = x = self.dropout2(relu(self.l_2(x)))\n",
    "\n",
    "        # Softmax\n",
    "        out['out'] = softmax(self.l_out(x), dim = 1)\n",
    "        return out\n",
    "\n",
    "net = Net()\n",
    "\n",
    "#### Information on the model ####\n",
    "print(net)"
   ]
  },
  {
   "cell_type": "code",
   "execution_count": 13,
   "metadata": {},
   "outputs": [],
   "source": [
    "#### Defining Loss function, optimizer and performance estimation ####\n",
    "criterion = nn.CrossEntropyLoss()\n",
    "optimizer = optim.Adam(net.parameters(), lr = 0.01, weight_decay = 1e-5)\n",
    "\n",
    "def accuracy(ys, ts):\n",
    "    # making a one-hot encoded vector of correct (1) and incorrect (0) predictions\n",
    "    correct_prediction = torch.eq(torch.max(ys, 1)[1], ts)\n",
    "    # averaging the one-hot encoded vector\n",
    "    return torch.mean(correct_prediction.float())"
   ]
  },
  {
   "cell_type": "code",
   "execution_count": 14,
   "metadata": {
    "scrolled": false
   },
   "outputs": [
    {
     "name": "stdout",
     "output_type": "stream",
     "text": [
      "Iteration 0: Training loss: 1.10287 | Training acc: 0.06667 | Validation loss: 1.10390 | Validiation acc: 0.00585\n",
      "Iteration 500: Training loss: 0.90736 | Training acc: 0.60016 | Validation loss: 1.03486 | Validiation acc: 0.50937\n",
      "Iteration 1000: Training loss: 0.73869 | Training acc: 0.80984 | Validation loss: 1.04025 | Validiation acc: 0.50937\n",
      "Iteration 1500: Training loss: 0.71088 | Training acc: 0.84000 | Validation loss: 1.04203 | Validiation acc: 0.50585\n",
      "Iteration 2000: Training loss: 0.70003 | Training acc: 0.85104 | Validation loss: 1.03370 | Validiation acc: 0.51405\n",
      "Iteration 2500: Training loss: 0.68950 | Training acc: 0.86096 | Validation loss: 1.04236 | Validiation acc: 0.50585\n",
      "Iteration 3000: Training loss: 0.68373 | Training acc: 0.86753 | Validation loss: 1.04062 | Validiation acc: 0.50820\n",
      "Iteration 3500: Training loss: 0.69067 | Training acc: 0.86051 | Validation loss: 1.03013 | Validiation acc: 0.51874\n",
      "Iteration 4000: Training loss: 0.70818 | Training acc: 0.84291 | Validation loss: 1.03256 | Validiation acc: 0.51756\n",
      "Iteration 4500: Training loss: 0.71394 | Training acc: 0.83709 | Validation loss: 1.02521 | Validiation acc: 0.52576\n",
      "Iteration 5000: Training loss: 0.72740 | Training acc: 0.82331 | Validation loss: 1.04247 | Validiation acc: 0.50937\n",
      "Iteration 5500: Training loss: 0.75590 | Training acc: 0.79538 | Validation loss: 1.03536 | Validiation acc: 0.51522\n",
      "Iteration 6000: Training loss: 0.76329 | Training acc: 0.78791 | Validation loss: 1.02910 | Validiation acc: 0.52108\n",
      "Iteration 6500: Training loss: 0.77470 | Training acc: 0.77693 | Validation loss: 1.01940 | Validiation acc: 0.53279\n",
      "Iteration 7000: Training loss: 0.77813 | Training acc: 0.77311 | Validation loss: 1.03614 | Validiation acc: 0.51522\n",
      "Iteration 7500: Training loss: 0.80245 | Training acc: 0.74913 | Validation loss: 1.03168 | Validiation acc: 0.51991\n",
      "Iteration 8000: Training loss: 0.81911 | Training acc: 0.73193 | Validation loss: 1.03098 | Validiation acc: 0.51991\n",
      "Iteration 8500: Training loss: 0.81354 | Training acc: 0.73789 | Validation loss: 1.01196 | Validiation acc: 0.53981\n",
      "Iteration 9000: Training loss: 0.78899 | Training acc: 0.76224 | Validation loss: 1.02039 | Validiation acc: 0.53044\n",
      "Iteration 9500: Training loss: 0.81020 | Training acc: 0.74116 | Validation loss: 1.02445 | Validiation acc: 0.52693\n",
      "Iteration 10000: Training loss: 0.82469 | Training acc: 0.72658 | Validation loss: 1.02634 | Validiation acc: 0.52459\n"
     ]
    },
    {
     "data": {
      "image/png": "[encoded data removed]",
      "text/plain": [
       "<Figure size 432x288 with 1 Axes>"
      ]
     },
     "metadata": {},
     "output_type": "display_data"
    },
    {
     "data": {
      "image/png": "[encoded data removed]",
      "text/plain": [
       "<Figure size 432x288 with 1 Axes>"
      ]
     },
     "metadata": {},
     "output_type": "display_data"
    }
   ],
   "source": [
    "#### Defining maximum number of iterations and when to print ####\n",
    "max_iter = 10000\n",
    "eval_every = 500\n",
    "log_every = 500\n",
    "\n",
    "# Make space\n",
    "train_loss = [] \n",
    "train_accs = []\n",
    "\n",
    "accs_train = []\n",
    "losses_train = []\n",
    "accs_val = []\n",
    "losses_val = []\n",
    "\n",
    "#### All Systems Go! ####\n",
    "net.train()\n",
    "for i, batch in enumerate(train_iter):\n",
    "    \n",
    "    if i % log_every == 0:\n",
    "        net.eval()\n",
    "        val_losses = 0\n",
    "        val_accs = 0\n",
    "        val_lengths = 0\n",
    "        \n",
    "        for val_batch in val_iter:\n",
    "            output = net(val_batch.Text)\n",
    "            # batches sizes might vary, which is why we cannot just mean the batch's loss\n",
    "            # we multiply the loss and accuracies with the batch's size,\n",
    "            # to later divide by the total size\n",
    "            val_losses += criterion(output['out'], val_batch.Label) * val_batch.batch_size\n",
    "            val_accs += accuracy(output['out'], val_batch.Label) * val_batch.batch_size\n",
    "           \n",
    "            val_lengths += val_batch.batch_size\n",
    "            \n",
    "        # divide by the total accumulated batch sizes\n",
    "        val_losses /= val_lengths\n",
    "        val_accs /= val_lengths\n",
    "        net.train()\n",
    "    \n",
    "    output = net(batch.Text)\n",
    "    batch_loss = criterion(output['out'], batch.Label)\n",
    "    \n",
    "    train_loss.append(get_numpy(batch_loss))\n",
    "    train_accs.append(get_numpy(accuracy(output['out'], batch.Label)))\n",
    "    \n",
    "    optimizer.zero_grad()\n",
    "    batch_loss.backward()\n",
    "    optimizer.step()\n",
    "    \n",
    "    if i % log_every == 0:  \n",
    "        accs_train += [np.mean(train_accs)]\n",
    "        losses_train += [np.mean(train_loss)] \n",
    "        accs_val += [get_numpy(val_accs)]\n",
    "        losses_val += [get_numpy(val_losses)]\n",
    "        \n",
    "        print(\"Iteration {}: Training loss: {:.5f} | Training acc: {:.5f} | Validation loss: {:.5f} | Validiation acc: {:.5f}\".format(i, np.mean(train_loss), np.mean(train_accs), get_numpy(val_losses), get_numpy(val_accs)))\n",
    "        # Reset\n",
    "        train_loss, train_accs = [], []\n",
    "        \n",
    "    if max_iter < i:\n",
    "        #### Plots #### \n",
    "        plt.plot(accs_train)\n",
    "        plt.plot(accs_val)\n",
    "        plt.xlabel('Epochs'), plt.ylabel('Accuracy')\n",
    "        plt.legend(['Training accuracy','Validation accuracy'], loc = 1)\n",
    "        plt.show()\n",
    "    \n",
    "        plt.plot(losses_train)\n",
    "        plt.plot(losses_val)\n",
    "        plt.xlabel('Epochs'), plt.ylabel('Loss')\n",
    "        plt.legend(['Training loss','Validation loss'], loc = 1)\n",
    "        plt.show()\n",
    "        \n",
    "        break"
   ]
  }
 ],
 "metadata": {
  "kernelspec": {
   "display_name": "Python 3",
   "language": "python",
   "name": "python3"
  },
  "language_info": {
   "codemirror_mode": {
    "name": "ipython",
    "version": 3
   },
   "file_extension": ".py",
   "mimetype": "text/x-python",
   "name": "python",
   "nbconvert_exporter": "python",
   "pygments_lexer": "ipython3",
   "version": "3.6.5"
  }
 },
 "nbformat": 4,
 "nbformat_minor": 2
}
