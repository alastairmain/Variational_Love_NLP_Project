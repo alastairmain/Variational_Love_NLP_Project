{
 "cells": [
  {
   "cell_type": "markdown",
   "metadata": {},
   "source": [
    "### Dataloader \n"
   ]
  },
  {
   "cell_type": "markdown",
   "metadata": {},
   "source": [
    "In this script we will perform a LSTM neural network on the CiteULike dataset. "
   ]
  },
  {
   "cell_type": "code",
   "execution_count": 1,
   "metadata": {
    "scrolled": true
   },
   "outputs": [],
   "source": [
    "#!pip install torchtext"
   ]
  },
  {
   "cell_type": "code",
   "execution_count": 2,
   "metadata": {},
   "outputs": [],
   "source": [
    "from torchtext.data import Dataset, BucketIterator, Field, TabularDataset, Iterator\n",
    "from torchtext.vocab import Vocab\n",
    "import pandas as pd\n",
    "import numpy as np\n",
    "import spacy\n",
    "\n",
    "import torch\n",
    "import torch.nn.functional as F\n",
    "import torch.optim as optim\n",
    "from torch.autograd import Variable\n",
    "from torch import nn\n",
    "import torch.nn.utils.rnn as rnn_utils"
   ]
  },
  {
   "cell_type": "code",
   "execution_count": 3,
   "metadata": {},
   "outputs": [],
   "source": [
    "%matplotlib inline\n",
    "import matplotlib\n",
    "import matplotlib.pyplot as plt"
   ]
  },
  {
   "cell_type": "markdown",
   "metadata": {},
   "source": [
    "Defining our dataloader\n",
    "Splitting the dataset up in a training, validation and test set. "
   ]
  },
  {
   "cell_type": "code",
   "execution_count": null,
   "metadata": {},
   "outputs": [],
   "source": []
  },
  {
   "cell_type": "code",
   "execution_count": 4,
   "metadata": {},
   "outputs": [],
   "source": [
    "## Read datasets \n",
    "CiteULike_data=pd.read_csv('data/citeulike/raw-data.csv')\n",
    "#Loading small dataset for speed \n",
    "User_info = pd.read_csv('data/citeulike/user-info-small.csv')\n",
    "\n",
    "\n",
    "def zero_indexing(nparr):\n",
    "    uniq = np.unique(nparr)\n",
    "    name2idx = {o:i for i,o in enumerate(uniq)}\n",
    "    return np.array([name2idx[o] for o in nparr]), uniq\n",
    "\n",
    "User_info[\"user.id\"], uniq = zero_indexing(User_info[\"user.id\"].values)\n",
    "\n",
    "User_info = User_info.sample(frac=1) # Shuffle\n",
    "User_info[\"doc.id\"] = [CiteULike_data.iloc[int(idx),1] for idx in User_info[\"doc.id\"]]\n",
    "\n",
    "max_length = max((len(s.split(' ')) for s in CiteULike_data.iloc[:,1]))\n",
    "\n",
    "\n",
    "# split train, validation and test in respectively 70%,20% and 10% of the data size\n",
    "\n",
    "n=len(User_info)\n",
    "trn_len=int(n*0.7)\n",
    "val_len=int(n*0.2)\n",
    "test_len=n-trn_len-val_len\n",
    "\n",
    "\n",
    "train = User_info[:trn_len]\n",
    "val = User_info[trn_len:-test_len]\n",
    "test = User_info[trn_len:-val_len]\n",
    "\n",
    "#Defining unique coloumns and userId and removing the header \n",
    "uniq_items = np.unique(CiteULike_data[\"doc.id\"])[:-1]\n",
    "uniq_users = np.unique(train[\"user.id\"])[:-1]\n",
    "items = set((x[0],x[1]) for x in train[[\"user.id\",\"doc.id\"]].values)\n",
    "\n",
    "pairs = []\n",
    "i = 0\n",
    "while(i < len(train)):\n",
    "    \n",
    "    item = np.random.choice(uniq_items, size = 1)[0]\n",
    "    user = np.random.choice(uniq_users, size = 1)[0]\n",
    "    if (user,item) not in items:\n",
    "        i += 1\n",
    "        pairs += [(user,item,0)]\n",
    "        items.add((user,item))\n",
    "\n",
    "        \n",
    "        \n",
    "User_info_Negatives = np.vstack((train, pairs))\n",
    "\n",
    "train = pd.DataFrame(data = User_info_Negatives,columns = [\"user.id\",\"doc.id\", \"rating\"])\n",
    "\n",
    "val.to_csv('data/citeulike/val.csv', header = False, index = False)\n",
    "test.to_csv('data/citeulike/test.csv', header = False, index = False)\n",
    "\n",
    "del User_info_Negatives, items, uniq_items, uniq_users, pairs, User_info, val, test\n",
    "\n",
    "for i,val in enumerate(train[\"doc.id\"][trn_len:]):\n",
    "    train[\"doc.id\"].loc[trn_len+i] = CiteULike_data.iloc[int(val),1]\n",
    "\n",
    "train = train.sample(frac=1) #shuffle panda style\n",
    "\n",
    "train.to_csv('data/citeulike/train.csv', header = False, index = False)\n"
   ]
  },
  {
   "cell_type": "markdown",
   "metadata": {},
   "source": [
    "Tokenizer: ID is the User_ID, Text: is the article's abstract and Label "
   ]
  },
  {
   "cell_type": "code",
   "execution_count": 5,
   "metadata": {},
   "outputs": [],
   "source": [
    "spacy_en = spacy.load('en')\n",
    "\n",
    "def tokenizer(text): # create a tokenizer function\n",
    "    return [tok.text for tok in spacy_en.tokenizer(text)]\n",
    "\n",
    "#text field is sequential data while label and ID is not. Setting Text data to lower case and setting the fixed length\n",
    "#to the maximum length so all examples will be padded according to this.\n",
    "#For Label and ID we set use_vocab=False because it is numerical. \n",
    "#include_lengths – Whether to return a tuple of a padded minibatch \n",
    "#and a list containing the lengths of each examples, or just a padded minibatch. Default: False.\n",
    "\n",
    "TEXT = Field(sequential=True, lower=True, include_lengths=True, fix_length=max_length)\n",
    "LABEL = Field(sequential=False, use_vocab=False)\n",
    "ID = Field(sequential=False, use_vocab=False)\n",
    "\n",
    "#Loading data\n",
    "train, val, test = TabularDataset.splits(\n",
    "        path='data/citeulike', train='train.csv',\n",
    "        validation='val.csv', test='test.csv', format='csv',\n",
    "        fields=[('ID', ID), ('Text', TEXT), ('Label', LABEL)])\n",
    "\n",
    "#Building vocab\n",
    "TEXT.build_vocab(train, vectors=\"glove.6B.100d\")\n",
    "LABEL.build_vocab(train)\n",
    "ID.build_vocab(train)"
   ]
  },
  {
   "cell_type": "code",
   "execution_count": 6,
   "metadata": {},
   "outputs": [
    {
     "name": "stdout",
     "output_type": "stream",
     "text": [
      "Text fields:\n",
      " size of vocabulary: 5013\n",
      " vocabulary's embedding dimension: torch.Size([5013, 100])\n",
      " no. times the \"fun\" appear in the dataset: 1\n",
      "\n",
      "Label fields:\n",
      " list of vocabulary (int-to-str): ['<unk>', '0', '1']\n",
      " list of vocabulary (str-to-int): {'<unk>': 0, '0': 1, '1': 2}\n"
     ]
    }
   ],
   "source": [
    "print('Text fields:')\n",
    "#print('keys of TEXT.vocab:', list(TEXT.vocab.__dict__.keys()))\n",
    "print(' size of vocabulary:', len(TEXT.vocab))\n",
    "print(\" vocabulary's embedding dimension:\", TEXT.vocab.vectors.size())\n",
    "print(' no. times the \"fun\" appear in the dataset:', TEXT.vocab.freqs['fun'])\n",
    "\n",
    "print('\\nLabel fields:')\n",
    "#print('keys of LABEL.vocab:', list(LABEL.vocab.__dict__.keys()))\n",
    "print(\" list of vocabulary (int-to-str):\", LABEL.vocab.itos)\n",
    "print(\" list of vocabulary (str-to-int):\", dict(LABEL.vocab.stoi))"
   ]
  },
  {
   "cell_type": "markdown",
   "metadata": {},
   "source": [
    "Choosing batchsize and defining the three iterators and setting sort_within_batch = True so the lengths in the bathsize are sorted in decreasing order. "
   ]
  },
  {
   "cell_type": "code",
   "execution_count": 7,
   "metadata": {
    "scrolled": true
   },
   "outputs": [],
   "source": [
    "batch_size = (45, 45, 45)\n",
    "\n",
    "train_iter, val_iter, test_iter = BucketIterator.splits(\n",
    "    (train, val, test), batch_sizes=batch_size, sort_key=lambda x: len(x.Text), sort_within_batch = True)"
   ]
  },
  {
   "cell_type": "markdown",
   "metadata": {},
   "source": [
    "### LSTM  - Building the model\n"
   ]
  },
  {
   "cell_type": "code",
   "execution_count": 8,
   "metadata": {},
   "outputs": [],
   "source": [
    "# size of embeddings\n",
    "num_embeddings = TEXT.vocab.vectors.size()[0]\n",
    "num_classes = len(LABEL.vocab.itos)\n",
    "TEXT_Shape = TEXT.vocab.vectors.size()\n",
    "embedding_dim = TEXT_Shape[1]\n",
    "num_items = TEXT_Shape[0]\n",
    "num_users = len(ID.vocab.itos)\n",
    "\n",
    "n_hidden = 100\n",
    "l1_hidden = 110\n",
    "\n",
    "class CFNN(nn.Module):\n",
    "    def __init__(self, num_users, num_items, embedding_dim=embedding_dim, n_hidden=n_hidden, l1_hidden=l1_hidden):\n",
    "        super(CFNN, self).__init__()\n",
    "        self.user_emb = nn.Embedding(num_users, embedding_dim)\n",
    "        self.item_emb = nn.Embedding(num_items, embedding_dim)\n",
    "        \n",
    "        # use pretrained embeddings\n",
    "        #self.item_emb.weight.data.copy_(TEXT.vocab.vectors)\n",
    "        #self.item_emb.weight.detach_()\n",
    "        \n",
    "        self.lin1 = nn.Linear(embedding_dim + n_hidden, l1_hidden)\n",
    "        self.lin2 = nn.Linear(l1_hidden, 1)\n",
    "        self.drop0 = nn.Dropout(0.4)\n",
    "        self.drop1 = nn.Dropout(0.5)\n",
    "                \n",
    "        # RNN decoding\n",
    "        self.rnn = nn.LSTM(embedding_dim, n_hidden, batch_first = False)\n",
    "        self.rnnlin = nn.Linear(n_hidden, n_hidden)\n",
    "        \n",
    "        self.sigmoid = nn.Sigmoid()\n",
    "        \n",
    "    def forward(self, u, v, hidden):\n",
    "        U = self.user_emb(u)\n",
    "        V = self.item_emb(v)\n",
    "        \n",
    "        V, hidden = self.rnn(V, hidden)\n",
    "        hn, cn = hidden\n",
    "        V = F.relu(self.rnnlin(hn[-1]))\n",
    "        \n",
    "        #batchnorm testet here\n",
    "        \n",
    "        x = torch.cat([U, V], dim=1)\n",
    "        x = self.drop0(x)\n",
    "        x = F.relu(self.lin1(x))\n",
    "        x = self.drop1(x)\n",
    "        #batchnorm testet here\n",
    "        \n",
    "        x = self.lin2(x)\n",
    "        \n",
    "        x = self.sigmoid(x)\n",
    "        return x\n",
    "    \n",
    "    def init_hidden(self, batch_size):\n",
    "        init = torch.zeros(1, batch_size, n_hidden)\n",
    "        return (init,init)"
   ]
  },
  {
   "cell_type": "code",
   "execution_count": 12,
   "metadata": {},
   "outputs": [],
   "source": [
    "## Training loop\n",
    "def train(model, train_loader, optimizer, criterion, epoch,print_batch_p):\n",
    "    model.train()\n",
    "    \n",
    "    acc_list = []\n",
    "    loss_list = []\n",
    "    \n",
    "    for batch_idx, (data, _) in enumerate(train_loader):\n",
    "        users,(items, seq_lengths),ratings = data\n",
    "        \n",
    "        batch_size = len(users)\n",
    "        users = users.long()\n",
    "        items = items.long()\n",
    "        ratings = ratings.float()      \n",
    "        \n",
    "        optimizer.zero_grad()\n",
    "        hidden_size = model.init_hidden(batch_size)\n",
    "        output = model(users, items, hidden_size)\n",
    "        \n",
    "        \n",
    "        #print(output)\n",
    "        \n",
    "        loss = criterion(output, ratings)\n",
    "        loss.backward()\n",
    "        optimizer.step()\n",
    "        #if batch_idx % len(train_loader.dataset)/10 == 0:\n",
    "        #    print('Train Epoch: {} [{}/{} ({:.0f}%)]\\tLoss: {:.6f}'.format(\n",
    "        #        epoch, batch_idx * len(users), len(train_loader.dataset),\n",
    "        #        100. * batch_idx / len(train_loader), loss.item()))\n",
    "        \n",
    "        \n",
    "         # Print jumping\n",
    "        percent = print_batch_p\n",
    "        proc = int((len(train_loader.dataset)/batch_size)*percent)\n",
    "        proc = proc if proc >= 1 else 1\n",
    "        \n",
    "        # Calculate accuracy\n",
    "        TP,FP,TN,FN = 0,0,0,0\n",
    "        output_flat = [0 if o < 0.5 else 1 for o in output.data]\n",
    "        for y,yhat in zip(ratings.data, output_flat):\n",
    "            y = int(y)\n",
    "            if yhat == 0:\n",
    "                if y != yhat:\n",
    "                    FN += 1\n",
    "                else:\n",
    "                    TN += 1\n",
    "            else:\n",
    "                if y != yhat:\n",
    "                    FP += 1\n",
    "                else:\n",
    "                    TP += 1\n",
    "            \n",
    "        acc_list += [(TP + TN)/(TP+FP+TN+FN)]\n",
    "        loss_list += [loss.item()]\n",
    "        \n",
    "        \n",
    "        if (batch_idx % proc == 0 and batch_idx != 0):\n",
    "            loss_mean = sum(loss_list)/len(loss_list)\n",
    "            acc_mean = sum(acc_list)/len(acc_list)\n",
    "            percent = 100 * (batch_idx / (len(train_loader)-1))\n",
    "            print(f'Train epoch {epoch:3d} ({percent:3.0f}%), Mean Accuracy: {acc_mean:2.5f}, Mean Loss: {loss_mean:2.5f}')\n",
    "\n",
    "def validate(model, val_loader, criterion, epoch):\n",
    "    model.eval()\n",
    "\n",
    "    val_loss = 0\n",
    "    \n",
    "    TP,FP,TN,FN = 0,0,0,0\n",
    "    \n",
    "    with torch.no_grad():\n",
    "        for batch_idx, (data, _) in enumerate(val_loader):\n",
    "            users, (items, seq_lengths), ratings = data\n",
    "            batch_size = len(users)\n",
    "            users = users.long()\n",
    "            items = items.long()\n",
    "            ratings = ratings.float()\n",
    "            \n",
    "            hidden_size = model.init_hidden(batch_size)\n",
    "            output = model(users, items, hidden_size)\n",
    "            loss = criterion(output.float(),ratings)\n",
    "            output_flat = [0 if o < 0.5 else 1 for o in output.data]\n",
    "            \n",
    "            for y,yhat in zip(ratings.data, output_flat):\n",
    "                y = int(y)\n",
    "                if yhat == 0:\n",
    "                    if y != yhat:\n",
    "                        FN += 1\n",
    "                    else:\n",
    "                        TN += 1\n",
    "                else:\n",
    "                    if y != yhat:\n",
    "                        FP += 1\n",
    "                    else:\n",
    "                        TP += 1\n",
    "            val_loss += loss.item() # sum up batch loss\n",
    "\n",
    "    acc = (TP + TN)/(TP + TN + FP + FN)\n",
    "    val_loss /= len(val_loader)\n",
    "    print(f'Validation epoch {epoch:>3d} (100%), Accucary: {acc:>2.5f}, Mean Loss: {val_loss:>2.5f} \\n')\n",
    "    return acc, val_loss\n",
    "\n",
    "\n",
    "\n",
    "def trainLoop(epochs, lr=0.001, wd = 1e-6, print_batch_p = 1, early_patience=5):\n",
    "    # Define model    \n",
    "    model = CFNN(num_users,num_items)\n",
    "    criterion = nn.BCELoss()\n",
    "    optimizer = optim.Adam(model.parameters(), lr=lr, weight_decay = wd)\n",
    "    \n",
    "    accs = []\n",
    "    losses = []\n",
    "    best_acc = (-1,-1e16,1e16)\n",
    "    best_loss = (-1,-1e16,1e16)\n",
    "    early = 0\n",
    "    \n",
    "    \n",
    "    \n",
    "    for epoch in range(1, epochs + 1):\n",
    "        train(model, train_iter, optimizer, criterion, epoch,print_batch_p)\n",
    "        val_acc, val_loss = validate(model, val_iter, criterion, epoch)\n",
    "        accs += [val_acc]\n",
    "        losses += [val_loss]\n",
    "        \n",
    "        early += 1\n",
    "        if val_acc > best_acc[-2]:\n",
    "            early = 0\n",
    "            best_acc = (epoch, val_acc, val_loss)\n",
    "        if val_loss < best_loss[-1]:\n",
    "            early = 0\n",
    "            best_loss = (epoch, val_acc, val_loss)\n",
    "        if early >= early_patience:\n",
    "            break\n",
    "    \n",
    "    \n",
    "    plt.plot(range(1,epoch+1),accs)\n",
    "    plt.show()\n",
    "    plt.xlabel('Epochs'), plt.ylabel('Accuracy')\n",
    "    plt.legend(['Validation accuracy'])\n",
    "    print(f'best validatation accu epoch: {best_acc[0]:>3.0f}, acc: {best_acc[1]:>2.5f}, mean loss: {best_acc[2]:>2.5f} \\n')\n",
    "    \n",
    "    \n",
    "    plt.plot(range(1,epoch+1),losses)\n",
    "    plt.xlabel('Epochs'), plt.ylabel('Loss')\n",
    "    plt.legend(['Validation loss'])\n",
    "    plt.show()\n",
    "    print(f'best validatation loss epoch: {best_loss[0]:>3.0f}, acc: {best_loss[1]:>2.5f}, mean loss: {best_loss[2]:>2.5f}')\n",
    "    \n",
    "    \n",
    "    #plt.plot(range(1,epochs+1),accs)\n",
    "    #plt.xlabel('Epochs'), plt.ylabel('Acc')\n",
    "    #plt.legend(['Validation accuracy'])\n",
    "    #plt.show()\n",
    "    #print(f'best validatation accu epoch: {best_acc[0]:>3.0f}, acc: {best_acc[1]:>2.5f}, mean loss: {best_acc[2]:>2.5f} \\n')\n",
    "    \n",
    "    #plt.plot(range(1,epochs+1),losses)\n",
    "    #plt.xlabel('Epochs'), plt.ylabel('Loss')\n",
    "    #plt.legend(['Validation loss'])\n",
    "    #plt.show()\n",
    "    #print(f'best validatation loss epoch: {best_loss[0]:>3.0f}, acc: {best_loss[1]:>2.5f}, mean loss: {best_loss[2]:>2.5f}')\n"
   ]
  },
  {
   "cell_type": "code",
   "execution_count": 15,
   "metadata": {},
   "outputs": [
    {
     "name": "stderr",
     "output_type": "stream",
     "text": [
      "/anaconda3/lib/python3.6/site-packages/torch/nn/functional.py:1474: UserWarning: Using a target size (torch.Size([45])) that is different to the input size (torch.Size([45, 1])) is deprecated. Please ensure they have the same size.\n",
      "  \"Please ensure they have the same size.\".format(target.size(), input.size()))\n",
      "/anaconda3/lib/python3.6/site-packages/torch/nn/functional.py:1474: UserWarning: Using a target size (torch.Size([18])) that is different to the input size (torch.Size([18, 1])) is deprecated. Please ensure they have the same size.\n",
      "  \"Please ensure they have the same size.\".format(target.size(), input.size()))\n"
     ]
    },
    {
     "name": "stdout",
     "output_type": "stream",
     "text": [
      "Train epoch   1 ( 32%), Mean Accuracy: 0.55808, Mean Loss: 0.68170\n",
      "Train epoch   1 ( 64%), Mean Accuracy: 0.58630, Mean Loss: 0.65715\n",
      "Train epoch   1 ( 95%), Mean Accuracy: 0.60191, Mean Loss: 0.64400\n"
     ]
    },
    {
     "name": "stderr",
     "output_type": "stream",
     "text": [
      "/anaconda3/lib/python3.6/site-packages/torch/nn/functional.py:1474: UserWarning: Using a target size (torch.Size([22])) that is different to the input size (torch.Size([22, 1])) is deprecated. Please ensure they have the same size.\n",
      "  \"Please ensure they have the same size.\".format(target.size(), input.size()))\n"
     ]
    },
    {
     "name": "stdout",
     "output_type": "stream",
     "text": [
      "Validation epoch   1 (100%), Accucary: 0.63232, Mean Loss: 0.59148 \n",
      "\n",
      "Train epoch   2 ( 32%), Mean Accuracy: 0.68586, Mean Loss: 0.59747\n",
      "Train epoch   2 ( 64%), Mean Accuracy: 0.66615, Mean Loss: 0.60384\n",
      "Train epoch   2 ( 95%), Mean Accuracy: 0.66528, Mean Loss: 0.59929\n",
      "Validation epoch   2 (100%), Accucary: 0.67447, Mean Loss: 0.51165 \n",
      "\n",
      "Train epoch   3 ( 32%), Mean Accuracy: 0.65960, Mean Loss: 0.60553\n",
      "Train epoch   3 ( 64%), Mean Accuracy: 0.66589, Mean Loss: 0.58859\n",
      "Train epoch   3 ( 95%), Mean Accuracy: 0.66545, Mean Loss: 0.59004\n",
      "Validation epoch   3 (100%), Accucary: 0.64403, Mean Loss: 0.54710 \n",
      "\n",
      "Train epoch   4 ( 32%), Mean Accuracy: 0.70404, Mean Loss: 0.56893\n",
      "Train epoch   4 ( 64%), Mean Accuracy: 0.69070, Mean Loss: 0.58246\n",
      "Train epoch   4 ( 95%), Mean Accuracy: 0.68559, Mean Loss: 0.58967\n",
      "Validation epoch   4 (100%), Accucary: 0.64403, Mean Loss: 0.52963 \n",
      "\n",
      "Train epoch   5 ( 32%), Mean Accuracy: 0.67576, Mean Loss: 0.59292\n",
      "Train epoch   5 ( 64%), Mean Accuracy: 0.67907, Mean Loss: 0.58739\n",
      "Train epoch   5 ( 95%), Mean Accuracy: 0.67604, Mean Loss: 0.58555\n",
      "Validation epoch   5 (100%), Accucary: 0.64403, Mean Loss: 0.52087 \n",
      "\n",
      "Train epoch   6 ( 32%), Mean Accuracy: 0.67172, Mean Loss: 0.60148\n",
      "Train epoch   6 ( 64%), Mean Accuracy: 0.67597, Mean Loss: 0.58910\n",
      "Train epoch   6 ( 95%), Mean Accuracy: 0.67917, Mean Loss: 0.58660\n",
      "Validation epoch   6 (100%), Accucary: 0.65808, Mean Loss: 0.51896 \n",
      "\n",
      "Train epoch   7 ( 32%), Mean Accuracy: 0.66818, Mean Loss: 0.59339\n",
      "Train epoch   7 ( 64%), Mean Accuracy: 0.67933, Mean Loss: 0.58582\n",
      "Train epoch   7 ( 95%), Mean Accuracy: 0.67830, Mean Loss: 0.58725\n",
      "Validation epoch   7 (100%), Accucary: 0.64403, Mean Loss: 0.56264 \n",
      "\n",
      "Train epoch   8 ( 32%), Mean Accuracy: 0.70404, Mean Loss: 0.56759\n",
      "Train epoch   8 ( 64%), Mean Accuracy: 0.69225, Mean Loss: 0.57783\n",
      "Train epoch   8 ( 95%), Mean Accuracy: 0.69080, Mean Loss: 0.58134\n",
      "Validation epoch   8 (100%), Accucary: 0.64403, Mean Loss: 0.54770 \n",
      "\n",
      "Train epoch   9 ( 32%), Mean Accuracy: 0.68283, Mean Loss: 0.58217\n",
      "Train epoch   9 ( 64%), Mean Accuracy: 0.68837, Mean Loss: 0.58119\n",
      "Train epoch   9 ( 95%), Mean Accuracy: 0.68646, Mean Loss: 0.58369\n",
      "Validation epoch   9 (100%), Accucary: 0.64403, Mean Loss: 0.54376 \n",
      "\n",
      "Train epoch  10 ( 32%), Mean Accuracy: 0.69192, Mean Loss: 0.57042\n",
      "Train epoch  10 ( 64%), Mean Accuracy: 0.69793, Mean Loss: 0.57438\n",
      "Train epoch  10 ( 95%), Mean Accuracy: 0.69462, Mean Loss: 0.57451\n",
      "Validation epoch  10 (100%), Accucary: 0.64403, Mean Loss: 0.53872 \n",
      "\n",
      "Train epoch  11 ( 32%), Mean Accuracy: 0.71566, Mean Loss: 0.56692\n",
      "Train epoch  11 ( 64%), Mean Accuracy: 0.69793, Mean Loss: 0.58214\n",
      "Train epoch  11 ( 95%), Mean Accuracy: 0.69948, Mean Loss: 0.57559\n",
      "Validation epoch  11 (100%), Accucary: 0.62529, Mean Loss: 0.54373 \n",
      "\n",
      "Train epoch  12 ( 32%), Mean Accuracy: 0.70303, Mean Loss: 0.56285\n",
      "Train epoch  12 ( 64%), Mean Accuracy: 0.68114, Mean Loss: 0.57541\n",
      "Train epoch  12 ( 95%), Mean Accuracy: 0.68472, Mean Loss: 0.58050\n",
      "Validation epoch  12 (100%), Accucary: 0.62529, Mean Loss: 0.56631 \n",
      "\n"
     ]
    },
    {
     "data": {
      "image/png": "[encoded data removed]",
      "text/plain": [
       "<Figure size 432x288 with 1 Axes>"
      ]
     },
     "metadata": {},
     "output_type": "display_data"
    },
    {
     "name": "stdout",
     "output_type": "stream",
     "text": [
      "best validatation accu epoch:   2, acc: 0.67447, mean loss: 0.51165 \n",
      "\n"
     ]
    },
    {
     "data": {
      "image/png": "[encoded data removed]",
      "text/plain": [
       "<Figure size 432x288 with 1 Axes>"
      ]
     },
     "metadata": {},
     "output_type": "display_data"
    },
    {
     "name": "stdout",
     "output_type": "stream",
     "text": [
      "best validatation loss epoch:   2, acc: 0.67447, mean loss: 0.51165\n"
     ]
    }
   ],
   "source": [
    "trainLoop(epochs=100, lr=0.0009, wd=1e-6, print_batch_p=0.33, early_patience=10)"
   ]
  },
  {
   "cell_type": "code",
   "execution_count": null,
   "metadata": {},
   "outputs": [],
   "source": []
  },
  {
   "cell_type": "code",
   "execution_count": 11,
   "metadata": {},
   "outputs": [
    {
     "data": {
      "text/plain": [
       "<torchtext.data.field.Field at 0x11c0ab080>"
      ]
     },
     "execution_count": 11,
     "metadata": {},
     "output_type": "execute_result"
    }
   ],
   "source": [
    "TEXT"
   ]
  },
  {
   "cell_type": "code",
   "execution_count": null,
   "metadata": {},
   "outputs": [],
   "source": []
  }
 ],
 "metadata": {
  "kernelspec": {
   "display_name": "Python 3",
   "language": "python",
   "name": "python3"
  },
  "language_info": {
   "codemirror_mode": {
    "name": "ipython",
    "version": 3
   },
   "file_extension": ".py",
   "mimetype": "text/x-python",
   "name": "python",
   "nbconvert_exporter": "python",
   "pygments_lexer": "ipython3",
   "version": "3.6.5"
  }
 },
 "nbformat": 4,
 "nbformat_minor": 2
}
