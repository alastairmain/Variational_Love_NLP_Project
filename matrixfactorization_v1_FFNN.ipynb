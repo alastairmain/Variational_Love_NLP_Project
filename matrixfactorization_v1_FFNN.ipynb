{
 "cells": [
  {
   "cell_type": "markdown",
   "metadata": {},
   "source": [
    "Parameters in the model\n",
    "Matrix R: containing the ratings \n",
    "Matrix U: Containing the embeddings of the users\n",
    "Matrix M: Containing the embedding of the movies\n"
   ]
  },
  {
   "cell_type": "code",
   "execution_count": 19,
   "metadata": {},
   "outputs": [],
   "source": [
    "import torch\n",
    "import pandas as pd\n",
    "import torch.nn as nn\n",
    "import torch.optim as optim\n",
    "import torch.nn.functional as F\n",
    "from torch.autograd import Variable\n",
    "import numpy as np\n",
    "from scipy.sparse import rand as sprand\n",
    "from torch.utils.data import Dataset, DataLoader\n",
    "from torchvision import transforms, utils\n",
    "from torch.utils import data\n"
   ]
  },
  {
   "cell_type": "code",
   "execution_count": 20,
   "metadata": {},
   "outputs": [],
   "source": [
    "# The grand dataset\n",
    "ratings_dataset = pd.read_csv('ratings_small.csv', usecols = ['userId','movieId','rating'])\n",
    "\n",
    "#ratings"
   ]
  },
  {
   "cell_type": "code",
   "execution_count": 21,
   "metadata": {},
   "outputs": [],
   "source": [
    "# Creating new indices\n",
    "\n",
    "def proc_col(col, train_col=None):\n",
    "    \"\"\"Encodes a pandas column with continous ids. \"\"\"\n",
    "    if train_col is not None:\n",
    "        uniq = train_col.unique()\n",
    "    else:\n",
    "        uniq = col.unique()\n",
    "    name2idx = {o:i for i,o in enumerate(uniq)}\n",
    "    return name2idx, np.array([name2idx.get(x, -1) for x in col]), len(uniq)"
   ]
  },
  {
   "cell_type": "code",
   "execution_count": 22,
   "metadata": {},
   "outputs": [],
   "source": [
    "def encode_data(ratings_dataset, train=None):\n",
    "    \"\"\" Encodes rating data with continous user and movie ids. \n",
    "    If train is provided, encodes df with the same encoding as train.\n",
    "    \"\"\"\n",
    "    ratings_dataset = ratings_dataset.copy()\n",
    "    for col_name in [\"userId\", \"movieId\"]:\n",
    "        train_col = None\n",
    "        if train is not None:\n",
    "            train_col = train[col_name]\n",
    "        _,col,_ = proc_col(ratings_dataset[col_name], train_col)\n",
    "        ratings_dataset[col_name] = col\n",
    "        ratings_dataset = ratings_dataset[ratings_dataset[col_name] >= 0]\n",
    "    return ratings_dataset"
   ]
  },
  {
   "cell_type": "code",
   "execution_count": 23,
   "metadata": {},
   "outputs": [],
   "source": [
    "ratings_dataset_e=encode_data(ratings_dataset)"
   ]
  },
  {
   "cell_type": "code",
   "execution_count": 24,
   "metadata": {},
   "outputs": [
    {
     "name": "stdout",
     "output_type": "stream",
     "text": [
      "70002\n",
      "20001\n",
      "10001\n"
     ]
    }
   ],
   "source": [
    "# split train and validation before encoding\n",
    "trn_len = ratings_dataset_e.shape[0]- int(0.3*ratings_dataset_e.shape[0])\n",
    "val_len = int(0.2*ratings_dataset_e.shape[0])\n",
    "test_len = int(0.1*ratings_dataset_e.shape[0])\n",
    "\n",
    "train = ratings_dataset_e[:trn_len-1].copy()\n",
    "val = ratings_dataset_e[trn_len:-test_len].copy()\n",
    "test = ratings_dataset_e[trn_len:-val_len].copy()\n",
    "\n",
    "print(len(train))\n",
    "print(len(val))\n",
    "print(len(test))"
   ]
  },
  {
   "cell_type": "code",
   "execution_count": 25,
   "metadata": {},
   "outputs": [
    {
     "data": {
      "text/plain": [
       "True"
      ]
     },
     "execution_count": 25,
     "metadata": {},
     "output_type": "execute_result"
    }
   ],
   "source": [
    "train.shape[0]+ val.shape[0]+ test.shape[0] == ratings_dataset_e.shape[0]"
   ]
  },
  {
   "cell_type": "code",
   "execution_count": null,
   "metadata": {},
   "outputs": [],
   "source": []
  },
  {
   "cell_type": "code",
   "execution_count": 26,
   "metadata": {},
   "outputs": [],
   "source": [
    "import torch\n",
    "from torch.utils import data\n",
    "\n",
    "# Formatting the data \n",
    "\n",
    "class MovieLens(Dataset):\n",
    "  #'Characterizes a dataset for PyTorch'\n",
    "    def __init__(self,users,movies,ratings):\n",
    "        'Initialization'\n",
    "        self.movies=movies\n",
    "        self.users=users\n",
    "        self.ratings=ratings\n",
    "        \n",
    "    def __len__(self):\n",
    "     #   'Denotes the total number of samples'\n",
    "        return len(self.ratings)\n",
    "\n",
    "    def __getitem__(self, index):\n",
    "     #   'Generates one sample of data'\n",
    "        # Select sample\n",
    "        \n",
    "        U = self.users[index]\n",
    "        V =self.movies[index]\n",
    "        y = self.ratings[index]\n",
    "        #obs = {'movieId':movieId,'userId':userId,'rating':rating}\n",
    "        #obs = self.movieLens.drop('timestamp',axis=1)\n",
    "        #obs = obs.iloc[index,:].as_matrix()\n",
    "\n",
    "        return [U,V,y]\n",
    "    "
   ]
  },
  {
   "cell_type": "code",
   "execution_count": 27,
   "metadata": {},
   "outputs": [],
   "source": [
    "users = torch.LongTensor(train.userId.values)\n",
    "movies = torch.LongTensor(train.movieId.values)\n",
    "ratings = torch.FloatTensor(train.rating.values)\n",
    "\n",
    "train_dataset = MovieLens(users, movies, ratings)\n",
    "\n",
    "train_loader = torch.utils.data.DataLoader(train_dataset, batch_size=100, shuffle=True)"
   ]
  },
  {
   "cell_type": "code",
   "execution_count": 28,
   "metadata": {},
   "outputs": [],
   "source": [
    "#Valid loader\n",
    "users_val = torch.LongTensor(val.userId.values)\n",
    "movies_val = torch.LongTensor(val.movieId.values)\n",
    "ratings_val = torch.FloatTensor(val.rating.values)\n",
    "\n",
    "val_dataset = MovieLens(users_val, movies_val, ratings_val)\n",
    "\n",
    "val_loader = torch.utils.data.DataLoader(val_dataset, batch_size=100, shuffle=True)\n",
    "\n",
    "\n",
    "\n",
    "# test loader\n",
    "users_test = torch.LongTensor(test.userId.values)\n",
    "movies_test = torch.LongTensor(test.movieId.values)\n",
    "ratings_test = torch.FloatTensor(test.rating.values)\n",
    "\n",
    "test_dataset = MovieLens(users_test, movies_test, ratings_test)\n",
    "\n",
    "test_loader = torch.utils.data.DataLoader(test_dataset, batch_size=100, shuffle=True)\n",
    "\n",
    "\n"
   ]
  },
  {
   "cell_type": "code",
   "execution_count": 29,
   "metadata": {},
   "outputs": [
    {
     "data": {
      "text/plain": [
       "[tensor([176, 372, 322,  90,  29, 281, 469, 349, 110, 456,  69, 456, 186, 212,\n",
       "         387,  92, 305, 477, 352, 231, 293, 101, 379,  72,  22, 231,  14, 451,\n",
       "         432, 110, 239,  14,  47, 194,  96, 291, 267, 231, 451,  72, 211,  30,\n",
       "         305, 305, 379, 312, 471, 451, 357, 422, 410,  56,  14, 462, 346, 145,\n",
       "         357, 416, 327, 421, 211, 246, 219, 290, 277, 338, 164,  93, 471, 354,\n",
       "          91, 310, 109, 298, 194,  76, 362, 212, 438, 164,  25, 158, 404, 212,\n",
       "         467,  55, 462, 460, 211, 148, 401,  98,  80,  17, 261,   3, 460,   2,\n",
       "         180, 444]),\n",
       " tensor([ 859,  898,  473, 3274, 2323,  441, 2030,  933,  818,  321, 3621, 1454,\n",
       "          489, 3174, 4786,   91,  728,  492, 4213,  159, 2210, 2583,  365,   15,\n",
       "         2426, 4607,  840, 2126,   91, 4525, 1428,  701, 1581, 1055, 1289, 4301,\n",
       "          436, 4419, 4759, 3704, 3724, 2175,  177, 1068,  346, 1336,  977,  364,\n",
       "          656, 2176,  179,  673,  954,  645,  143,  876, 4610, 2995,  184,  392,\n",
       "         4112, 2123,  148,  191,   86,  516, 4291,  342, 4617,  584,  670, 2668,\n",
       "           58, 2021, 4615,  409,  927, 1447, 2752, 3423,  474,  402,  389, 3192,\n",
       "         6495,  202,    9, 3535, 1493,  121, 1176,  674, 2281, 2073, 2844,  198,\n",
       "          212,  132,  483, 3067]),\n",
       " tensor([4.0000, 4.0000, 3.0000, 4.5000, 5.0000, 3.5000, 4.0000, 3.0000, 3.0000,\n",
       "         3.0000, 5.0000, 2.5000, 3.0000, 2.5000, 1.0000, 3.5000, 4.0000, 4.0000,\n",
       "         2.5000, 2.0000, 2.0000, 4.0000, 4.0000, 4.0000, 5.0000, 2.0000, 4.0000,\n",
       "         2.0000, 4.0000, 4.0000, 4.5000, 2.5000, 3.5000, 3.0000, 4.0000, 3.5000,\n",
       "         4.0000, 5.0000, 0.5000, 4.0000, 2.5000, 3.0000, 4.0000, 3.0000, 3.0000,\n",
       "         4.0000, 4.0000, 1.0000, 1.0000, 3.5000, 3.0000, 3.0000, 3.0000, 3.0000,\n",
       "         4.5000, 2.5000, 1.0000, 3.0000, 3.0000, 5.0000, 3.0000, 4.0000, 3.0000,\n",
       "         5.0000, 2.0000, 4.5000, 3.5000, 3.5000, 5.0000, 4.0000, 2.0000, 3.5000,\n",
       "         4.0000, 4.5000, 2.0000, 3.5000, 4.0000, 2.5000, 3.0000, 2.5000, 4.0000,\n",
       "         4.0000, 2.0000, 3.5000, 3.0000, 4.0000, 4.0000, 2.5000, 4.5000, 3.5000,\n",
       "         3.0000, 2.0000, 5.0000, 3.0000, 1.0000, 5.0000, 2.0000, 3.0000, 4.0000,\n",
       "         3.0000])]"
      ]
     },
     "execution_count": 29,
     "metadata": {},
     "output_type": "execute_result"
    }
   ],
   "source": [
    "# Printing one batch from the train dataloader\n",
    "t1= iter(train_loader)\n",
    "next(t1)\n"
   ]
  },
  {
   "cell_type": "code",
   "execution_count": 30,
   "metadata": {},
   "outputs": [],
   "source": [
    "n_hidden=20\n",
    "\n",
    "class Model(nn.Module):\n",
    "    def __init__(self, num_user, num_movie, emb_size=50):\n",
    "        super(Model, self).__init__()\n",
    "        self.userEmb = nn.Embedding(num_user, emb_size)\n",
    "        self.movieEmb = nn.Embedding(num_movie, emb_size)\n",
    "        \n",
    "        self.lin = nn.Linear(in_features = emb_size*2, out_features= n_hidden)\n",
    "        self.lin2 = nn.Linear(in_features = n_hidden, out_features=1)\n",
    "        \n",
    "        self.drop1 = nn.Dropout(0.25)\n",
    "        # dropout??\n",
    "        # other stuff??\n",
    "        # ??????\n",
    "       \n",
    "        \n",
    "    def forward(self, u, v):\n",
    "        \n",
    "        U = self.userEmb(u)\n",
    "        V = self.movieEmb(v)\n",
    "        x = torch.cat([U, V], dim=1)\n",
    "      \n",
    "    \n",
    "        x = self.drop1(x)\n",
    "        x = self.lin(x)\n",
    "        \n",
    "        x = F.relu(x)\n",
    "        \n",
    "        x = self.lin2(x)\n",
    "      \n",
    "        return x\n",
    "    \n",
    "    \n",
    "    "
   ]
  },
  {
   "cell_type": "code",
   "execution_count": 31,
   "metadata": {},
   "outputs": [],
   "source": [
    "num_user = len(ratings_dataset_e.userId.unique()) \n",
    "num_movie = len(ratings_dataset_e.movieId.unique())"
   ]
  },
  {
   "cell_type": "code",
   "execution_count": 32,
   "metadata": {},
   "outputs": [
    {
     "data": {
      "text/plain": [
       "<generator object Module.parameters at 0x121c32a98>"
      ]
     },
     "execution_count": 32,
     "metadata": {},
     "output_type": "execute_result"
    }
   ],
   "source": [
    "emb_size = 100\n",
    "model=Model(num_user,num_movie,emb_size)\n",
    "model.parameters()"
   ]
  },
  {
   "cell_type": "code",
   "execution_count": 33,
   "metadata": {},
   "outputs": [
    {
     "data": {
      "text/plain": [
       "[Parameter containing:\n",
       " tensor([[ 0.5475,  1.0680, -0.7663,  ..., -1.3638,  0.1031,  0.0401],\n",
       "         [ 1.3107, -1.5354,  0.0470,  ..., -0.6671, -0.1503, -1.7279],\n",
       "         [-0.6035,  0.1632, -0.9866,  ..., -0.3765, -1.4632,  1.2275],\n",
       "         ...,\n",
       "         [ 1.4701, -0.6156,  1.7890,  ..., -0.2021,  0.6346,  0.7224],\n",
       "         [-0.1341, -0.7536, -0.9832,  ..., -0.1153, -1.5532,  1.0675],\n",
       "         [ 0.3156,  0.3769, -0.1437,  ..., -0.5575,  0.0591, -0.0433]],\n",
       "        requires_grad=True), Parameter containing:\n",
       " tensor([[ 1.3306,  1.0489, -0.3052,  ...,  0.7721, -0.6707,  0.1450],\n",
       "         [ 0.9294, -0.0330, -0.1173,  ...,  0.7009, -0.7201, -0.6672],\n",
       "         [-1.3018,  0.4468, -1.5852,  ..., -1.6017, -0.6585,  0.7772],\n",
       "         ...,\n",
       "         [ 2.1443,  0.9254, -2.8560,  ..., -0.8815, -0.2108, -0.3349],\n",
       "         [ 0.1611,  0.5628, -0.8110,  ...,  1.1310, -0.6468, -0.9489],\n",
       "         [ 0.3549,  0.1230, -1.2544,  ..., -0.0491, -0.0114,  1.3473]],\n",
       "        requires_grad=True), Parameter containing:\n",
       " tensor([[ 0.0556,  0.0670, -0.0474,  ...,  0.0442,  0.0405, -0.0535],\n",
       "         [-0.0570, -0.0514,  0.0475,  ...,  0.0505,  0.0378, -0.0379],\n",
       "         [ 0.0235, -0.0439,  0.0592,  ..., -0.0590, -0.0351,  0.0027],\n",
       "         ...,\n",
       "         [-0.0468,  0.0064,  0.0151,  ...,  0.0683,  0.0136, -0.0564],\n",
       "         [-0.0167, -0.0229,  0.0651,  ..., -0.0675,  0.0314, -0.0479],\n",
       "         [ 0.0202, -0.0624,  0.0084,  ..., -0.0462, -0.0459,  0.0264]],\n",
       "        requires_grad=True), Parameter containing:\n",
       " tensor([-0.0638,  0.0328, -0.0290, -0.0387,  0.0283, -0.0613, -0.0657,  0.0689,\n",
       "          0.0150,  0.0345,  0.0242, -0.0250,  0.0388,  0.0691,  0.0255,  0.0299,\n",
       "         -0.0629,  0.0526,  0.0606, -0.0704], requires_grad=True), Parameter containing:\n",
       " tensor([[ 0.1012, -0.1571,  0.0174,  0.0538, -0.0797, -0.0263, -0.2213, -0.1361,\n",
       "           0.0031, -0.1648, -0.1146,  0.1851,  0.1546,  0.1912, -0.0187,  0.0431,\n",
       "          -0.1346, -0.1671, -0.2125,  0.1756]], requires_grad=True), Parameter containing:\n",
       " tensor([0.1680], requires_grad=True)]"
      ]
     },
     "execution_count": 33,
     "metadata": {},
     "output_type": "execute_result"
    }
   ],
   "source": [
    "[p for p in model.parameters()]"
   ]
  },
  {
   "cell_type": "code",
   "execution_count": null,
   "metadata": {},
   "outputs": [],
   "source": []
  },
  {
   "cell_type": "code",
   "execution_count": 34,
   "metadata": {},
   "outputs": [],
   "source": [
    "def test_loss(model):\n",
    "    model.eval() # go to evaluation mode\n",
    "    \n",
    "    running_loss = 0.\n",
    "    for j, data in enumerate(val_loader):\n",
    "        users, items, ratings = data\n",
    "        users = Variable(users)\n",
    "        items = Variable(items)\n",
    "        ratings = Variable(ratings).float()\n",
    "            \n",
    "        \n",
    "        y_hat = model(users, items)\n",
    "        loss_now = F.mse_loss(y_hat, ratings.unsqueeze(1))\n",
    "        running_loss+= loss_now.item()\n",
    "    print(\"validation loss\", \": \", running_loss/len(val_loader)) # j means this many iterations till end\n",
    "    "
   ]
  },
  {
   "cell_type": "code",
   "execution_count": 35,
   "metadata": {},
   "outputs": [],
   "source": [
    "def train_epocs(model, epochs=2, lr=0.01, wd=0.0):\n",
    "    parameters = filter(lambda p: p.requires_grad, model.parameters()) # get all parameters which need grad\n",
    "    optimizer = torch.optim.Adam(parameters, lr=lr, weight_decay=wd)\n",
    "    model.train() # into training mode\n",
    "    for i in range(epochs):\n",
    "        running_loss = 0.0\n",
    "        \n",
    "        for j, data in enumerate(train_loader):\n",
    "            users, items, ratings = data\n",
    "            users = Variable(users)\n",
    "            items = Variable(items)\n",
    "            ratings = Variable(ratings).float()\n",
    "      \n",
    "\n",
    "            y_hat = model(users, items)\n",
    "            loss = F.mse_loss(y_hat, ratings.unsqueeze(1))\n",
    "            optimizer.zero_grad()\n",
    "            loss.backward()\n",
    "            optimizer.step()\n",
    "            running_loss += loss.item()\n",
    "        print(\"training loss for epoch \",i+1, \": \", running_loss/j+1) # used to be loss.data[0]\n",
    "    test_loss(model)"
   ]
  },
  {
   "cell_type": "code",
   "execution_count": null,
   "metadata": {},
   "outputs": [],
   "source": [
    "train_epocs(model, epochs=5, lr=0.01)"
   ]
  },
  {
   "cell_type": "code",
   "execution_count": null,
   "metadata": {},
   "outputs": [],
   "source": []
  }
 ],
 "metadata": {
  "kernelspec": {
   "display_name": "Python 3",
   "language": "python",
   "name": "python3"
  },
  "language_info": {
   "codemirror_mode": {
    "name": "ipython",
    "version": 3
   },
   "file_extension": ".py",
   "mimetype": "text/x-python",
   "name": "python",
   "nbconvert_exporter": "python",
   "pygments_lexer": "ipython3",
   "version": "3.6.6"
  }
 },
 "nbformat": 4,
 "nbformat_minor": 2
}
