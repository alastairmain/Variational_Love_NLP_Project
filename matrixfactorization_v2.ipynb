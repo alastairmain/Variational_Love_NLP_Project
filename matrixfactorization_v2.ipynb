{
 "cells": [
  {
   "cell_type": "markdown",
   "metadata": {},
   "source": [
    "Parameters in the model\n",
    "Matrix R: containing the ratings \n",
    "Matrix U: Containing the embeddings of the users\n",
    "Matrix M: Containing the embedding of the movies\n"
   ]
  },
  {
   "cell_type": "code",
   "execution_count": 1,
   "metadata": {},
   "outputs": [],
   "source": [
    "import torch\n",
    "import pandas as pd\n",
    "import torch.nn as nn\n",
    "import torch.optim as optim\n",
    "import torch.nn.functional as F\n",
    "from torch.autograd import Variable\n",
    "import numpy as np\n",
    "from scipy.sparse import rand as sprand\n",
    "from torch.utils.data import Dataset, DataLoader\n",
    "from torchvision import transforms, utils\n",
    "from torch.utils import data\n"
   ]
  },
  {
   "cell_type": "code",
   "execution_count": 2,
   "metadata": {},
   "outputs": [],
   "source": [
    "# The grand dataset\n",
    "ratings_dataset = pd.read_csv('ratings_small.csv', usecols = ['userId','movieId','rating'])\n",
    "\n",
    "#ratings"
   ]
  },
  {
   "cell_type": "code",
   "execution_count": 3,
   "metadata": {},
   "outputs": [],
   "source": [
    "# Creating new indices\n",
    "\n",
    "def proc_col(col, train_col=None):\n",
    "    \"\"\"Encodes a pandas column with continous ids. \"\"\"\n",
    "    if train_col is not None:\n",
    "        uniq = train_col.unique()\n",
    "    else:\n",
    "        uniq = col.unique()\n",
    "    name2idx = {o:i for i,o in enumerate(uniq)}\n",
    "    return name2idx, np.array([name2idx.get(x, -1) for x in col]), len(uniq)"
   ]
  },
  {
   "cell_type": "code",
   "execution_count": 4,
   "metadata": {},
   "outputs": [],
   "source": [
    "def encode_data(ratings_dataset, train=None):\n",
    "    \"\"\" Encodes rating data with continous user and movie ids. \n",
    "    If train is provided, encodes df with the same encoding as train.\n",
    "    \"\"\"\n",
    "    ratings_dataset = ratings_dataset.copy()\n",
    "    for col_name in [\"userId\", \"movieId\"]:\n",
    "        train_col = None\n",
    "        if train is not None:\n",
    "            train_col = train[col_name]\n",
    "        _,col,_ = proc_col(ratings_dataset[col_name], train_col)\n",
    "        ratings_dataset[col_name] = col\n",
    "        ratings_dataset = ratings_dataset[ratings_dataset[col_name] >= 0]\n",
    "    return ratings_dataset"
   ]
  },
  {
   "cell_type": "code",
   "execution_count": 5,
   "metadata": {},
   "outputs": [],
   "source": [
    "ratings_dataset_e=encode_data(ratings_dataset)"
   ]
  },
  {
   "cell_type": "code",
   "execution_count": 6,
   "metadata": {},
   "outputs": [
    {
     "name": "stdout",
     "output_type": "stream",
     "text": [
      "70002\n",
      "20001\n",
      "10001\n"
     ]
    }
   ],
   "source": [
    "# split train and validation before encoding\n",
    "trn_len = ratings_dataset_e.shape[0]- int(0.3*ratings_dataset_e.shape[0])\n",
    "val_len = int(0.2*ratings_dataset_e.shape[0])\n",
    "test_len = int(0.1*ratings_dataset_e.shape[0])\n",
    "\n",
    "train = ratings_dataset_e[:trn_len-1].copy()\n",
    "val = ratings_dataset_e[trn_len:-test_len].copy()\n",
    "test = ratings_dataset_e[trn_len:-val_len].copy()\n",
    "\n",
    "print(len(train))\n",
    "print(len(val))\n",
    "print(len(test))"
   ]
  },
  {
   "cell_type": "code",
   "execution_count": 7,
   "metadata": {},
   "outputs": [
    {
     "data": {
      "text/plain": [
       "True"
      ]
     },
     "execution_count": 7,
     "metadata": {},
     "output_type": "execute_result"
    }
   ],
   "source": [
    "train.shape[0]+ val.shape[0]+ test.shape[0] == ratings_dataset_e.shape[0]"
   ]
  },
  {
   "cell_type": "code",
   "execution_count": 8,
   "metadata": {},
   "outputs": [
    {
     "data": {
      "text/plain": [
       "<bound method DataFrame.max of         userId  movieId  rating\n",
       "0            0        0     2.5\n",
       "1            0        1     3.0\n",
       "2            0        2     3.0\n",
       "3            0        3     2.0\n",
       "4            0        4     4.0\n",
       "5            0        5     2.0\n",
       "6            0        6     2.0\n",
       "7            0        7     2.0\n",
       "8            0        8     3.5\n",
       "9            0        9     2.0\n",
       "10           0       10     2.5\n",
       "11           0       11     1.0\n",
       "12           0       12     4.0\n",
       "13           0       13     4.0\n",
       "14           0       14     3.0\n",
       "15           0       15     2.0\n",
       "16           0       16     2.0\n",
       "17           0       17     2.5\n",
       "18           0       18     1.0\n",
       "19           0       19     3.0\n",
       "20           1       20     4.0\n",
       "21           1       21     5.0\n",
       "22           1       22     5.0\n",
       "23           1       23     4.0\n",
       "24           1       24     4.0\n",
       "25           1       25     3.0\n",
       "26           1       26     3.0\n",
       "27           1       27     4.0\n",
       "28           1       28     3.0\n",
       "29           1       29     5.0\n",
       "...        ...      ...     ...\n",
       "99974      670      473     4.5\n",
       "99975      670      354     5.0\n",
       "99976      670      355     3.5\n",
       "99977      670     5577     4.0\n",
       "99978      670      477     5.0\n",
       "99979      670      478     5.0\n",
       "99980      670      358     4.5\n",
       "99981      670      479     4.5\n",
       "99982      670      480     5.0\n",
       "99983      670      359     4.0\n",
       "99984      670     1225     2.0\n",
       "99985      670     1240     2.0\n",
       "99986      670      361     3.0\n",
       "99987      670      126     4.0\n",
       "99988      670     1260     4.0\n",
       "99989      670      483     4.5\n",
       "99990      670      362     3.0\n",
       "99991      670      127     4.0\n",
       "99992      670      364     4.0\n",
       "99993      670     1299     3.5\n",
       "99994      670      412     5.0\n",
       "99995      670      486     4.0\n",
       "99996      670     1308     4.5\n",
       "99997      670      365     4.0\n",
       "99998      670     2930     2.5\n",
       "99999      670     7005     2.5\n",
       "100000     670     4771     4.0\n",
       "100001     670     1329     4.0\n",
       "100002     670     1331     2.5\n",
       "100003     670     2946     3.5\n",
       "\n",
       "[100004 rows x 3 columns]>"
      ]
     },
     "execution_count": 8,
     "metadata": {},
     "output_type": "execute_result"
    }
   ],
   "source": [
    "ratings_dataset_e.max"
   ]
  },
  {
   "cell_type": "code",
   "execution_count": 9,
   "metadata": {},
   "outputs": [],
   "source": [
    "import torch\n",
    "from torch.utils import data\n",
    "\n",
    "# Formatting the data \n",
    "\n",
    "class MovieLens(Dataset):\n",
    "  #'Characterizes a dataset for PyTorch'\n",
    "    def __init__(self,users,movies,ratings):\n",
    "        'Initialization'\n",
    "        self.movies=movies\n",
    "        self.users=users\n",
    "        self.ratings=ratings\n",
    "        \n",
    "    def __len__(self):\n",
    "     #   'Denotes the total number of samples'\n",
    "        return len(self.ratings)\n",
    "\n",
    "    def __getitem__(self, index):\n",
    "     #   'Generates one sample of data'\n",
    "        # Select sample\n",
    "        \n",
    "        U = self.users[index]\n",
    "        V =self.movies[index]\n",
    "        y = self.ratings[index]\n",
    "        #obs = {'movieId':movieId,'userId':userId,'rating':rating}\n",
    "        #obs = self.movieLens.drop('timestamp',axis=1)\n",
    "        #obs = obs.iloc[index,:].as_matrix()\n",
    "\n",
    "        return [U,V,y]\n",
    "    "
   ]
  },
  {
   "cell_type": "code",
   "execution_count": 10,
   "metadata": {},
   "outputs": [],
   "source": [
    "users = torch.LongTensor(train.userId.values)\n",
    "movies = torch.LongTensor(train.movieId.values)\n",
    "ratings = torch.FloatTensor(train.rating.values)\n",
    "\n",
    "train_dataset = MovieLens(users, movies, ratings)\n",
    "\n",
    "train_loader = torch.utils.data.DataLoader(train_dataset, batch_size=100, shuffle=True)"
   ]
  },
  {
   "cell_type": "code",
   "execution_count": 11,
   "metadata": {},
   "outputs": [],
   "source": [
    "#Valid loader\n",
    "users_val = torch.LongTensor(val.userId.values)\n",
    "movies_val = torch.LongTensor(val.movieId.values)\n",
    "ratings_val = torch.FloatTensor(val.rating.values)\n",
    "\n",
    "val_dataset = MovieLens(users_val, movies_val, ratings_val)\n",
    "\n",
    "val_loader = torch.utils.data.DataLoader(val_dataset, batch_size=100, shuffle=True)\n",
    "\n",
    "\n",
    "\n",
    "# test loader\n",
    "users_test = torch.LongTensor(test.userId.values)\n",
    "movies_test = torch.LongTensor(test.movieId.values)\n",
    "ratings_test = torch.FloatTensor(test.rating.values)\n",
    "\n",
    "test_dataset = MovieLens(users_test, movies_test, ratings_test)\n",
    "\n",
    "test_loader = torch.utils.data.DataLoader(test_dataset, batch_size=100, shuffle=True)\n",
    "\n",
    "\n"
   ]
  },
  {
   "cell_type": "code",
   "execution_count": 12,
   "metadata": {},
   "outputs": [
    {
     "data": {
      "text/plain": [
       "[tensor([ 164,   14,  176,  471,  400,  430,   47,  325,  184,  293,\n",
       "          354,  214,  129,  262,  303,  249,  274,  401,  405,  357,\n",
       "          208,  370,  202,  455,  366,  251,  101,  104,  291,  410,\n",
       "          305,  110,  467,  270,  295,  118,   14,  426,   21,  241,\n",
       "          314,  246,   54,  375,  239,  193,  381,   72,  383,   22,\n",
       "          459,   59,  256,  220,  440,  127,  426,  299,  343,  462,\n",
       "           82,  433,   14,  211,  413,  384,  422,  176,  262,  229,\n",
       "          184,  109,  430,  152,  304,  261,  310,  198,  368,  479,\n",
       "           55,  318,  479,  293,  480,  383,  451,  422,  252,   20,\n",
       "           11,  310,  129,  239,  452,  189,  219,   72,   76,   98]),\n",
       " tensor([ 2128,   630,   798,   700,   581,   224,  3182,    96,   435,\n",
       "          4645,   732,   435,   240,  4204,   323,  1512,  1757,  4749,\n",
       "          4168,    81,   672,  1516,   160,   202,  1020,   417,   953,\n",
       "           362,   495,    79,  2073,    23,   870,  2075,   313,  3657,\n",
       "           773,  7076,   143,   551,  6471,  5459,   722,  2739,  1097,\n",
       "          2951,   384,  3802,  1496,    81,   470,   142,  3136,   728,\n",
       "          1309,  2101,   634,   143,     9,     3,   629,   436,  1070,\n",
       "           157,  2513,   680,  7037,  4959,    26,    99,  1181,    22,\n",
       "           625,  1960,   140,  3918,  2169,   474,    69,  1536,  1843,\n",
       "            30,  1546,  6152,  2060,  6802,   879,   129,   879,   177,\n",
       "           591,  1313,  1369,  1397,  1115,   300,   346,   354,   714,\n",
       "            64]),\n",
       " tensor([ 3.0000,  4.0000,  5.0000,  4.0000,  5.0000,  4.0000,  3.0000,\n",
       "          4.0000,  4.0000,  4.0000,  4.5000,  3.0000,  3.0000,  3.0000,\n",
       "          1.5000,  4.0000,  4.5000,  5.0000,  4.5000,  3.0000,  4.0000,\n",
       "          4.0000,  4.0000,  4.5000,  3.5000,  3.0000,  5.0000,  4.0000,\n",
       "          4.5000,  5.0000,  3.0000,  4.0000,  3.0000,  2.5000,  4.5000,\n",
       "          3.0000,  4.0000,  5.0000,  4.0000,  5.0000,  1.0000,  4.0000,\n",
       "          3.0000,  4.0000,  4.5000,  3.0000,  1.0000,  2.5000,  4.0000,\n",
       "          2.5000,  4.0000,  3.5000,  0.5000,  3.0000,  5.0000,  4.0000,\n",
       "          4.0000,  4.0000,  3.0000,  3.0000,  4.5000,  5.0000,  4.0000,\n",
       "          5.0000,  3.0000,  3.0000,  3.0000,  3.0000,  3.5000,  4.5000,\n",
       "          4.0000,  5.0000,  5.0000,  5.0000,  3.0000,  2.5000,  3.0000,\n",
       "          5.0000,  4.0000,  2.0000,  4.0000,  4.0000,  5.0000,  3.5000,\n",
       "          4.5000,  3.0000,  3.0000,  3.5000,  3.5000,  5.0000,  4.0000,\n",
       "          3.0000,  4.0000,  3.5000,  5.0000,  4.0000,  4.0000,  4.0000,\n",
       "          2.5000,  4.0000])]"
      ]
     },
     "execution_count": 12,
     "metadata": {},
     "output_type": "execute_result"
    }
   ],
   "source": [
    "# Printing one batch from the train dataloader\n",
    "t1= iter(train_loader)\n",
    "next(t1)\n"
   ]
  },
  {
   "cell_type": "code",
   "execution_count": 13,
   "metadata": {},
   "outputs": [],
   "source": [
    "class Model(nn.Module):\n",
    "    def __init__(self, num_user, num_movie, emb_size=100):\n",
    "        super(Model, self).__init__()\n",
    "        self.userEmb = nn.Embedding(num_user, emb_size)\n",
    "        self.movieEmb = nn.Embedding(num_movie, emb_size)\n",
    "        \n",
    "        \n",
    "    def forward(self, u, v):\n",
    "        U = self.userEmb(u)\n",
    "        V = self.movieEmb(v)\n",
    "        return (U*V).sum(1)"
   ]
  },
  {
   "cell_type": "code",
   "execution_count": null,
   "metadata": {},
   "outputs": [],
   "source": []
  },
  {
   "cell_type": "code",
   "execution_count": 14,
   "metadata": {},
   "outputs": [],
   "source": [
    "num_user = len(ratings_dataset.userId.unique()) \n",
    "num_movie = len(ratings_dataset.movieId.unique())"
   ]
  },
  {
   "cell_type": "code",
   "execution_count": 15,
   "metadata": {},
   "outputs": [
    {
     "data": {
      "text/plain": [
       "<generator object Module.parameters at 0x106d734c0>"
      ]
     },
     "execution_count": 15,
     "metadata": {},
     "output_type": "execute_result"
    }
   ],
   "source": [
    "emb_size = 100\n",
    "model=Model(num_user,num_movie,emb_size)\n",
    "model.parameters()"
   ]
  },
  {
   "cell_type": "code",
   "execution_count": 16,
   "metadata": {},
   "outputs": [
    {
     "data": {
      "text/plain": [
       "[Parameter containing:\n",
       " tensor([[-8.3762e-01,  4.0872e-01, -1.1977e+00,  ...,  7.5657e-01,\n",
       "           7.2198e-01, -1.9205e+00],\n",
       "         [ 6.3992e-02, -5.2978e-02,  9.9496e-01,  ...,  2.3100e-01,\n",
       "          -4.1503e-01,  2.0637e+00],\n",
       "         [ 5.2997e-01,  6.1431e-01, -3.1933e-01,  ..., -1.1856e+00,\n",
       "          -1.2023e+00, -2.7081e+00],\n",
       "         ...,\n",
       "         [ 1.1961e+00, -1.2884e-01,  1.6270e+00,  ..., -3.0326e-01,\n",
       "           1.2082e-01,  7.7062e-02],\n",
       "         [-1.6689e+00, -1.0780e-01,  7.0758e-02,  ..., -1.4046e+00,\n",
       "           1.0838e+00, -1.2293e+00],\n",
       "         [ 3.0049e-01, -8.4128e-01,  1.2243e+00,  ...,  1.7267e+00,\n",
       "          -3.7154e-01, -5.2564e-02]]), Parameter containing:\n",
       " tensor([[ 3.6193e-01, -4.2789e-01, -3.3172e-01,  ..., -1.5869e+00,\n",
       "           6.1288e-01,  1.3990e-01],\n",
       "         [-1.1924e+00, -1.0613e+00,  3.7470e-01,  ...,  4.4404e-01,\n",
       "           1.4038e+00,  9.8005e-01],\n",
       "         [-7.3969e-01,  1.6161e+00, -1.1826e+00,  ..., -2.9731e-01,\n",
       "           1.5401e+00,  3.1059e-01],\n",
       "         ...,\n",
       "         [ 4.9038e-02, -3.8305e-02, -2.7045e-01,  ..., -1.2570e+00,\n",
       "           1.9908e+00,  7.6880e-01],\n",
       "         [ 8.5191e-01,  4.2244e-01,  1.1112e+00,  ...,  1.3262e+00,\n",
       "           1.5708e+00,  5.3959e-02],\n",
       "         [-2.4563e-01,  4.9721e-01, -1.2784e+00,  ..., -3.1435e-01,\n",
       "           5.7604e-01,  7.1287e-01]])]"
      ]
     },
     "execution_count": 16,
     "metadata": {},
     "output_type": "execute_result"
    }
   ],
   "source": [
    "[p for p in model.parameters()]"
   ]
  },
  {
   "cell_type": "code",
   "execution_count": null,
   "metadata": {},
   "outputs": [],
   "source": []
  },
  {
   "cell_type": "code",
   "execution_count": 17,
   "metadata": {},
   "outputs": [],
   "source": [
    "def test_loss(model):\n",
    "    model.eval() # go to evaluation mode\n",
    "    \n",
    "    running_loss = 0.\n",
    "    for j, data in enumerate(val_loader):\n",
    "        users, items, ratings = data\n",
    "        users = Variable(users)\n",
    "        items = Variable(items)\n",
    "        ratings = Variable(ratings).float()\n",
    "            \n",
    "       \n",
    "        y_hat = model(users,items)\n",
    "        loss_now = F.mse_loss(y_hat, ratings)\n",
    "        running_loss+= loss_now.data[0]\n",
    "        \n",
    "    print(\"validation loss\", \": \", running_loss/len(val_loader)) # j means this many iterations till end"
   ]
  },
  {
   "cell_type": "code",
   "execution_count": 18,
   "metadata": {},
   "outputs": [],
   "source": [
    "def train_epocs(model, epochs=10, lr=0.01, wd=0.0):\n",
    "    parameters = filter(lambda p: p.requires_grad, model.parameters()) # get all parameters which need grad\n",
    "    optimizer = torch.optim.Adam(parameters, lr=lr, weight_decay=wd)\n",
    "    model.train() # into training mode\n",
    "    for i in range(epochs):\n",
    "        running_loss = 0.0\n",
    "        \n",
    "        for j, data in enumerate(train_loader):\n",
    "            users, items, ratings = data\n",
    "            users = Variable(users)\n",
    "            items = Variable(items)\n",
    "            ratings = Variable(ratings).float()\n",
    "        \n",
    "\n",
    "            y_hat = model(users,items)\n",
    "            loss = F.mse_loss(y_hat, ratings)\n",
    "            \n",
    "            #optimizer.zero_grad()\n",
    "            #loss.backward()\n",
    "            #optimizer.step()\n",
    "            running_loss += loss.data[0]\n",
    "        print(\"training loss for epoch \",i+1, \": \", running_loss/j+1) # used to be loss.data[0]\n",
    "    test_loss(model)"
   ]
  },
  {
   "cell_type": "code",
   "execution_count": 19,
   "metadata": {},
   "outputs": [
    {
     "name": "stderr",
     "output_type": "stream",
     "text": [
      "/anaconda3/lib/python3.6/site-packages/ipykernel_launcher.py:21: UserWarning: invalid index of a 0-dim tensor. This will be an error in PyTorch 0.5. Use tensor.item() to convert a 0-dim tensor to a Python number\n"
     ]
    },
    {
     "name": "stdout",
     "output_type": "stream",
     "text": [
      "training loss for epoch  1 :  tensor(116.0545)\n",
      "training loss for epoch  2 :  tensor(116.2166)\n",
      "training loss for epoch  3 :  tensor(116.0447)\n",
      "training loss for epoch  4 :  tensor(116.0785)\n",
      "training loss for epoch  5 :  tensor(116.2470)\n",
      "training loss for epoch  6 :  tensor(116.7777)\n",
      "training loss for epoch  7 :  tensor(116.4843)\n",
      "training loss for epoch  8 :  tensor(116.8681)\n",
      "training loss for epoch  9 :  tensor(116.1272)\n",
      "training loss for epoch  10 :  tensor(116.1020)\n"
     ]
    },
    {
     "name": "stderr",
     "output_type": "stream",
     "text": [
      "/anaconda3/lib/python3.6/site-packages/ipykernel_launcher.py:14: UserWarning: invalid index of a 0-dim tensor. This will be an error in PyTorch 0.5. Use tensor.item() to convert a 0-dim tensor to a Python number\n",
      "  \n"
     ]
    },
    {
     "name": "stdout",
     "output_type": "stream",
     "text": [
      "validation loss :  tensor(115.1415)\n"
     ]
    }
   ],
   "source": [
    "train_epocs(model, epochs=10, lr=0.01)"
   ]
  },
  {
   "cell_type": "markdown",
   "metadata": {},
   "source": [
    "training loss for epoch  1 :  tensor(79.6216)\n",
    "training loss for epoch  2 :  tensor(16.7696)\n",
    "validation loss :  tensor(98.1841)\n"
   ]
  }
 ],
 "metadata": {
  "kernelspec": {
   "display_name": "Python 3",
   "language": "python",
   "name": "python3"
  },
  "language_info": {
   "codemirror_mode": {
    "name": "ipython",
    "version": 3
   },
   "file_extension": ".py",
   "mimetype": "text/x-python",
   "name": "python",
   "nbconvert_exporter": "python",
   "pygments_lexer": "ipython3",
   "version": "3.6.5"
  }
 },
 "nbformat": 4,
 "nbformat_minor": 2
}
