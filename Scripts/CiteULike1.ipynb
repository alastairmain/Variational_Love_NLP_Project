{
 "cells": [
  {
   "cell_type": "code",
   "execution_count": 1,
   "metadata": {},
   "outputs": [],
   "source": [
    "import re\n",
    "import logging\n",
    "\n",
    "import numpy as np\n",
    "import pandas as pd\n",
    "import spacy\n",
    "import torch\n",
    "import csv\n",
    "from torchtext import data\n",
    "import urllib.request"
   ]
  },
  {
   "cell_type": "code",
   "execution_count": 2,
   "metadata": {},
   "outputs": [],
   "source": [
    "#The User data \n",
    "User_data = pd.read_csv('data/user-info.csv', usecols = ['user.id','doc.id','rating'])\n",
    "User_data = User_data.rename(columns={'user.id': 'user_id','doc.id': 'doc_id'})\n"
   ]
  },
  {
   "cell_type": "code",
   "execution_count": 3,
   "metadata": {},
   "outputs": [],
   "source": [
    "# The article dataset\n",
    "article_data = pd.read_csv('data/raw-data.csv', usecols = ['doc.id','title','citeulike.id', 'raw.abstract'],encoding = \"ISO-8859-1\")\n",
    "article_data = article_data.rename(columns={'raw.abstract': 'abstract','doc.id': 'doc_id','citeulike.id': 'citeulike_id'})\n"
   ]
  },
  {
   "cell_type": "code",
   "execution_count": 4,
   "metadata": {},
   "outputs": [],
   "source": [
    "CiteULike_data=pd.merge(User_data,article_data,on=\"doc_id\")"
   ]
  },
  {
   "cell_type": "code",
   "execution_count": 5,
   "metadata": {},
   "outputs": [],
   "source": [
    "VAL_RATIO = 0.2\n",
    "\n",
    "def prepare_csv(seed=999):\n",
    "    df_train = CiteULike_data\n",
    "    df_train[\"abstract\"] = \\\n",
    "        df_train.abstract.str.replace(\"\\n\", \" \")\n",
    "    idx = np.arange(df_train.shape[0])\n",
    "    np.random.seed(seed)\n",
    "    np.random.shuffle(idx)\n",
    "    val_size = int(len(idx) * VAL_RATIO)\n",
    "    df_train.iloc[idx[val_size:], :].to_csv(\n",
    "        \"cache/dataset_train.csv\", index=False)\n",
    "    df_train.iloc[idx[:val_size], :].to_csv(\n",
    "        \"cache/dataset_val.csv\", index=False)"
   ]
  },
  {
   "cell_type": "code",
   "execution_count": 6,
   "metadata": {},
   "outputs": [],
   "source": [
    "prepare_csv(999)"
   ]
  },
  {
   "cell_type": "code",
   "execution_count": 7,
   "metadata": {
    "scrolled": true
   },
   "outputs": [
    {
     "name": "stdout",
     "output_type": "stream",
     "text": [
      "122938\n"
     ]
    }
   ],
   "source": [
    "le = max(len(x) for x in CiteULike_data.abstract)\n",
    "print(le)"
   ]
  },
  {
   "cell_type": "code",
   "execution_count": 8,
   "metadata": {},
   "outputs": [],
   "source": [
    "NLP = spacy.load('en')\n",
    "MAX_CHARS = 1229381\n",
    "def tokenizer(abstract):\n",
    "    comment = re.sub(\n",
    "        r\"[\\*\\\"“”\\n\\\\…\\+\\-\\/\\=\\(\\)‘•:\\[\\]\\|’\\!;]\", \" \", \n",
    "        str(abstract))\n",
    "    abstract = re.sub(r\"[ ]+\", \" \", str(abstract))\n",
    "    abstract = re.sub(r\"\\!+\", \"!\", str(abstract))\n",
    "    abstract = re.sub(r\"\\,+\", \",\", str(abstract))\n",
    "    abstract = re.sub(r\"\\?+\", \"?\", str(abstract))\n",
    "    if (len(abstract) > MAX_CHARS):\n",
    "        abstract = abstract[:MAX_CHARS]\n",
    "    return [\n",
    "        x.text for x in NLP.tokenizer(abstract) if x.text != \" \"]"
   ]
  },
  {
   "cell_type": "code",
   "execution_count": 13,
   "metadata": {},
   "outputs": [
    {
     "data": {
      "text/plain": [
       "16980"
      ]
     },
     "execution_count": 13,
     "metadata": {},
     "output_type": "execute_result"
    }
   ],
   "source": [
    "len(CiteULike_data.doc_id.unique())"
   ]
  },
  {
   "cell_type": "code",
   "execution_count": 21,
   "metadata": {},
   "outputs": [],
   "source": [
    "#CiteULike_data.abstract=CiteULike_data.abstract.to_string()"
   ]
  },
  {
   "cell_type": "code",
   "execution_count": 22,
   "metadata": {},
   "outputs": [],
   "source": [
    "#print(type(CiteULike_data.abstract))"
   ]
  },
  {
   "cell_type": "code",
   "execution_count": 14,
   "metadata": {},
   "outputs": [
    {
     "name": "stdout",
     "output_type": "stream",
     "text": [
      "0         The Nucleic Acids Research Molecular Biology D...\n",
      "1         The Nucleic Acids Research Molecular Biology D...\n",
      "2         The Nucleic Acids Research Molecular Biology D...\n",
      "3         The Nucleic Acids Research Molecular Biology D...\n",
      "4         The Nucleic Acids Research Molecular Biology D...\n",
      "5         The Nucleic Acids Research Molecular Biology D...\n",
      "6         The Nucleic Acids Research Molecular Biology D...\n",
      "7         The Nucleic Acids Research Molecular Biology D...\n",
      "8         The Nucleic Acids Research Molecular Biology D...\n",
      "9         The Nucleic Acids Research Molecular Biology D...\n",
      "10        The Nucleic Acids Research Molecular Biology D...\n",
      "11        The Nucleic Acids Research Molecular Biology D...\n",
      "12        The Nucleic Acids Research Molecular Biology D...\n",
      "13        The Nucleic Acids Research Molecular Biology D...\n",
      "14        The Nucleic Acids Research Molecular Biology D...\n",
      "15        The Nucleic Acids Research Molecular Biology D...\n",
      "16        The Nucleic Acids Research Molecular Biology D...\n",
      "17        The Nucleic Acids Research Molecular Biology D...\n",
      "18        The Nucleic Acids Research Molecular Biology D...\n",
      "19        The Nucleic Acids Research Molecular Biology D...\n",
      "20        The Nucleic Acids Research Molecular Biology D...\n",
      "21        The Nucleic Acids Research Molecular Biology D...\n",
      "22        The Nucleic Acids Research Molecular Biology D...\n",
      "23        The Nucleic Acids Research Molecular Biology D...\n",
      "24        The Nucleic Acids Research Molecular Biology D...\n",
      "25        The Nucleic Acids Research Molecular Biology D...\n",
      "26        The Nucleic Acids Research Molecular Biology D...\n",
      "27        The Nucleic Acids Research Molecular Biology D...\n",
      "28        The Nucleic Acids Research Molecular Biology D...\n",
      "29        Cytoscape is an open source software project f...\n",
      "                                ...                        \n",
      "204956    Tracking and recognizing human face becomes on...\n",
      "204957    Indonesia has several laws and rules, one of t...\n",
      "204958    An intersection is a critical area of conflict...\n",
      "204959    Consolidation settlement is commonly computed ...\n",
      "204960    In this report we review the fundamentals, app...\n",
      "204961    1. Evidence-based policy requires researchers ...\n",
      "204962    1. Evidence-based policy requires researchers ...\n",
      "204963    Current spike sorting methods focus on cluster...\n",
      "204964    The purpose of this fourth Specialty Update is...\n",
      "204965    {Multivariate Calibration Harald Martens, Chem...\n",
      "204966    {Multivariate Calibration Harald Martens, Chem...\n",
      "204967    {Multivariate Calibration Harald Martens, Chem...\n",
      "204968    Although much research has examined the effect...\n",
      "204969    Although much research has examined the effect...\n",
      "204970    Although much research has examined the effect...\n",
      "204971    Microtubules (MTs) are important components of...\n",
      "204972    Microtubules (MTs) are important components of...\n",
      "204973    A low-complexity voice recognition method in a...\n",
      "204974    These third-year lecture notes are designed fo...\n",
      "204975    These third-year lecture notes are designed fo...\n",
      "204976    Although adaptive immunity is unique to verteb...\n",
      "204977    Although adaptive immunity is unique to verteb...\n",
      "204978    Para poder dar una definiciÃ³n de web 2.0 y ll...\n",
      "204979    Resumen: Se presenta el resultado de un estudi...\n",
      "204980    {Models are increasingly being relied upon to ...\n",
      "204981    Renewable energy has the potential to play an ...\n",
      "204982    After a long history of overexploitation, incr...\n",
      "204983    Virus-induced gene silencing (VIGS) is a techn...\n",
      "204984    Online chat rooms are a novel communication me...\n",
      "204985    Se pueden destacar tres cambios fundamentales ...\n",
      "Name: abstract, Length: 204986, dtype: object\n"
     ]
    }
   ],
   "source": [
    "print((CiteULike_data.abstract))"
   ]
  },
  {
   "cell_type": "code",
   "execution_count": 15,
   "metadata": {},
   "outputs": [
    {
     "data": {
      "text/plain": [
       "641"
      ]
     },
     "execution_count": 15,
     "metadata": {},
     "output_type": "execute_result"
    }
   ],
   "source": [
    "len(tokenizer(CiteULike_data.abstract))"
   ]
  },
  {
   "cell_type": "code",
   "execution_count": 28,
   "metadata": {
    "scrolled": true
   },
   "outputs": [
    {
     "data": {
      "text/plain": [
       "204986"
      ]
     },
     "execution_count": 28,
     "metadata": {},
     "output_type": "execute_result"
    }
   ],
   "source": [
    "len(CiteULike_data.abstract)"
   ]
  },
  {
   "cell_type": "code",
   "execution_count": null,
   "metadata": {},
   "outputs": [],
   "source": []
  },
  {
   "cell_type": "code",
   "execution_count": null,
   "metadata": {},
   "outputs": [],
   "source": []
  }
 ],
 "metadata": {
  "kernelspec": {
   "display_name": "Python 3",
   "language": "python",
   "name": "python3"
  },
  "language_info": {
   "codemirror_mode": {
    "name": "ipython",
    "version": 3
   },
   "file_extension": ".py",
   "mimetype": "text/x-python",
   "name": "python",
   "nbconvert_exporter": "python",
   "pygments_lexer": "ipython3",
   "version": "3.6.5"
  }
 },
 "nbformat": 4,
 "nbformat_minor": 2
}
