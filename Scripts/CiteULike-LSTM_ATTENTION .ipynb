{
 "cells": [
  {
   "cell_type": "markdown",
   "metadata": {},
   "source": [
    "### Dataloader \n"
   ]
  },
  {
   "cell_type": "markdown",
   "metadata": {},
   "source": [
    "In this script we will perform a LSTM neural network on the CiteULike dataset. "
   ]
  },
  {
   "cell_type": "code",
   "execution_count": 1,
   "metadata": {
    "scrolled": true
   },
   "outputs": [],
   "source": [
    "#!pip install torchtext"
   ]
  },
  {
   "cell_type": "code",
   "execution_count": 2,
   "metadata": {},
   "outputs": [],
   "source": [
    "from torchtext.data import Dataset, BucketIterator, Field, TabularDataset, Iterator\n",
    "from torchtext.vocab import Vocab\n",
    "import pandas as pd\n",
    "import numpy as np\n",
    "import spacy\n",
    "\n",
    "import torch\n",
    "import torch.nn.functional as F\n",
    "import torch.optim as optim\n",
    "from torch.autograd import Variable\n",
    "from torch import nn\n",
    "import torch.nn.utils.rnn as rnn_utils"
   ]
  },
  {
   "cell_type": "code",
   "execution_count": 3,
   "metadata": {},
   "outputs": [],
   "source": [
    "%matplotlib inline\n",
    "import matplotlib\n",
    "import matplotlib.pyplot as plt"
   ]
  },
  {
   "cell_type": "markdown",
   "metadata": {},
   "source": [
    "Defining our dataloader\n",
    "Splitting the dataset up in a training, validation and test set. "
   ]
  },
  {
   "cell_type": "code",
   "execution_count": null,
   "metadata": {},
   "outputs": [],
   "source": []
  },
  {
   "cell_type": "code",
   "execution_count": 4,
   "metadata": {},
   "outputs": [],
   "source": [
    "## Read datasets \n",
    "CiteULike_data=pd.read_csv('data/citeulike/raw-data.csv')\n",
    "#Loading small dataset for speed \n",
    "User_info = pd.read_csv('data/citeulike/user-info-small.csv')\n",
    "\n",
    "\n",
    "def zero_indexing(nparr):\n",
    "    uniq = np.unique(nparr)\n",
    "    name2idx = {o:i for i,o in enumerate(uniq)}\n",
    "    return np.array([name2idx[o] for o in nparr]), uniq\n",
    "\n",
    "User_info[\"user.id\"], uniq = zero_indexing(User_info[\"user.id\"].values)\n",
    "\n",
    "User_info = User_info.sample(frac=1) # Shuffle\n",
    "User_info[\"doc.id\"] = [CiteULike_data.iloc[int(idx),1] for idx in User_info[\"doc.id\"]]\n",
    "\n",
    "max_length = max((len(s.split(' ')) for s in CiteULike_data.iloc[:,1]))\n",
    "\n",
    "\n",
    "# split train, validation and test in respectively 70%,20% and 10% of the data size\n",
    "\n",
    "n=len(User_info)\n",
    "trn_len=int(n*0.7)\n",
    "val_len=int(n*0.2)\n",
    "test_len=n-trn_len-val_len\n",
    "\n",
    "\n",
    "train = User_info[:trn_len]\n",
    "val = User_info[trn_len:-test_len]\n",
    "test = User_info[trn_len:-val_len]\n",
    "\n",
    "#Defining unique coloumns and userId and removing the header \n",
    "uniq_items = np.unique(CiteULike_data[\"doc.id\"])[:-1]\n",
    "uniq_users = np.unique(train[\"user.id\"])[:-1]\n",
    "items = set((x[0],x[1]) for x in train[[\"user.id\",\"doc.id\"]].values)\n",
    "\n",
    "pairs = []\n",
    "i = 0\n",
    "while(i < len(train)):\n",
    "    \n",
    "    item = np.random.choice(uniq_items, size = 1)[0]\n",
    "    user = np.random.choice(uniq_users, size = 1)[0]\n",
    "    if (user,item) not in items:\n",
    "        i += 1\n",
    "        pairs += [(user,item,0)]\n",
    "        items.add((user,item))\n",
    "\n",
    "        \n",
    "        \n",
    "User_info_Negatives = np.vstack((train, pairs))\n",
    "\n",
    "train = pd.DataFrame(data = User_info_Negatives,columns = [\"user.id\",\"doc.id\", \"rating\"])\n",
    "\n",
    "val.to_csv('data/citeulike/val.csv', header = False, index = False)\n",
    "test.to_csv('data/citeulike/test.csv', header = False, index = False)\n",
    "\n",
    "del User_info_Negatives, items, uniq_items, uniq_users, pairs, User_info, val, test\n",
    "\n",
    "for i,val in enumerate(train[\"doc.id\"][n:]):\n",
    "    train[\"doc.id\"].loc[n+i] = CiteULike_data.iloc[int(val),1]\n",
    "\n",
    "train = train.sample(frac=1) #shuffle panda style\n",
    "\n",
    "train.to_csv('data/citeulike/train.csv', header = False, index = False)\n"
   ]
  },
  {
   "cell_type": "markdown",
   "metadata": {},
   "source": [
    "Tokenizer: ID is the User_ID, Text: is the article's abstract and Label "
   ]
  },
  {
   "cell_type": "code",
   "execution_count": 5,
   "metadata": {},
   "outputs": [
    {
     "name": "stdout",
     "output_type": "stream",
     "text": [
      "<torchtext.data.field.Field object at 0x11f80bc88>\n"
     ]
    }
   ],
   "source": [
    "spacy_en = spacy.load('en')\n",
    "\n",
    "def tokenizer(text): # create a tokenizer function\n",
    "    return [tok.text for tok in spacy_en.tokenizer(text)]\n",
    "\n",
    "#text field is sequential data while label and ID is not. Setting Text data to lower case and setting the fixed length\n",
    "#to the maximum length so all examples will be padded according to this.\n",
    "#For Label and ID we set use_vocab=False because it is numerical. \n",
    "#include_lengths – Whether to return a tuple of a padded minibatch \n",
    "#and a list containing the lengths of each examples, or just a padded minibatch. Default: False.\n",
    "\n",
    "TEXT = Field(sequential=True, lower=True, include_lengths=True, fix_length=max_length)\n",
    "print(TEXT)\n",
    "LABEL = Field(sequential=False, use_vocab=False)\n",
    "ID = Field(sequential=False, use_vocab=False)\n",
    "\n",
    "#Loading data\n",
    "train, val, test = TabularDataset.splits(\n",
    "        path='data/citeulike', train='train.csv',\n",
    "        validation='val.csv', test='test.csv', format='csv',\n",
    "        fields=[('ID', ID), ('Text', TEXT), ('Label', LABEL)])\n",
    "\n",
    "#Building vocab\n",
    "TEXT.build_vocab(train, vectors=\"glove.6B.100d\")\n",
    "LABEL.build_vocab(train)\n",
    "ID.build_vocab(train)"
   ]
  },
  {
   "cell_type": "code",
   "execution_count": 6,
   "metadata": {},
   "outputs": [
    {
     "name": "stdout",
     "output_type": "stream",
     "text": [
      "Text fields:\n",
      " size of vocabulary: 5017\n",
      "True\n",
      " vocabulary's embedding dimension: torch.Size([5017, 100])\n",
      " no. times the \"fun\" appear in the dataset: 1\n",
      "\n",
      "Label fields:\n",
      " list of vocabulary (int-to-str): ['<unk>', '0', '1']\n",
      " list of vocabulary (str-to-int): {'<unk>': 0, '0': 1, '1': 2}\n"
     ]
    }
   ],
   "source": [
    "print('Text fields:')\n",
    "#print('keys of TEXT.vocab:', list(TEXT.vocab.__dict__.keys()))\n",
    "print(' size of vocabulary:', len(TEXT.vocab))\n",
    "print(TEXT.include_lengths)\n",
    "print(\" vocabulary's embedding dimension:\", TEXT.vocab.vectors.size())\n",
    "print(' no. times the \"fun\" appear in the dataset:', TEXT.vocab.freqs['fun'])\n",
    "\n",
    "print('\\nLabel fields:')\n",
    "#print('keys of LABEL.vocab:', list(LABEL.vocab.__dict__.keys()))\n",
    "print(\" list of vocabulary (int-to-str):\", LABEL.vocab.itos)\n",
    "print(\" list of vocabulary (str-to-int):\", dict(LABEL.vocab.stoi))"
   ]
  },
  {
   "cell_type": "markdown",
   "metadata": {},
   "source": [
    "Choosing batchsize and defining the three iterators and setting sort_within_batch = True so the lengths in the bathsize are sorted in decreasing order. "
   ]
  },
  {
   "cell_type": "code",
   "execution_count": 7,
   "metadata": {
    "scrolled": true
   },
   "outputs": [],
   "source": [
    "batch_size = (45, 45, 45)\n",
    "\n",
    "train_iter, val_iter, test_iter = BucketIterator.splits(\n",
    "    (train, val, test), batch_sizes=batch_size, sort_key=lambda x: len(x.Text), sort_within_batch = True)"
   ]
  },
  {
   "cell_type": "markdown",
   "metadata": {},
   "source": [
    "### LSTM  - Building the model\n"
   ]
  },
  {
   "cell_type": "code",
   "execution_count": 8,
   "metadata": {},
   "outputs": [],
   "source": [
    "# size of embeddings\n",
    "embedding_dim = TEXT.vocab.vectors.size()[1]\n",
    "num_embeddings = TEXT.vocab.vectors.size()[0]\n",
    "num_classes = len(LABEL.vocab.itos)\n",
    "num_users = len(ID.vocab.itos)\n",
    "\n",
    "n_hidden = 100\n",
    "l1_hidden = 110\n",
    "attention_size=100\n",
    "class CFNN(nn.Module):\n",
    "    def __init__(self, num_users, num_items, embedding_dim=embedding_dim,attention_size=attention_size, n_hidden=n_hidden, l1_hidden=l1_hidden):\n",
    "        super(CFNN, self).__init__()\n",
    "        self.user_emb = nn.Embedding(num_users, embedding_dim)\n",
    "        self.item_emb = nn.Embedding(num_items, embedding_dim)\n",
    "        #self.item_emb.weight.requires_grad=False\n",
    "        # use pretrained embeddings\n",
    "        self.item_emb.weight.data.copy_(TEXT.vocab.vectors)\n",
    "        self.item_emb.weight.detach_()\n",
    "        \n",
    "        self.linA1 = nn.Linear(n_hidden, attention_size)\n",
    "        self.linU1 = nn.Linear(embedding_dim, attention_size)\n",
    "\n",
    "        self.linA2 = nn.Linear(attention_size, 1)\n",
    "        \n",
    "        self.softmax = nn.Softmax(dim=0)\n",
    "\n",
    "        \n",
    "        self.lin1 = nn.Linear(n_hidden, l1_hidden)\n",
    "        self.lin2 = nn.Linear(l1_hidden, 1)\n",
    "        self.drop0 = nn.Dropout(0.4)\n",
    "        self.drop1 = nn.Dropout(0.5)\n",
    "                \n",
    "        # RNN decoding\n",
    "        self.rnn = nn.LSTM(embedding_dim, n_hidden, batch_first = False)\n",
    "        #self.rnnlin = nn.Linear(n_hidden, n_hidden)\n",
    "        \n",
    "        self.sigmoid = nn.Sigmoid()\n",
    "        \n",
    "    def forward(self, u, v, hidden,seq_lengths):\n",
    "        U = self.user_emb(u)\n",
    "        V = self.item_emb(v)\n",
    "        \n",
    "        #V, hidden = self.rnn(V, hidden)\n",
    "        #packed = rnn_utils.pack_padded_sequence(V,seq_lengths)\n",
    "        rnnOut, (hn, cn) = self.rnn(V, hidden)        \n",
    "        #hn, cn = hidden\n",
    "        #V = F.relu(self.rnnlin(hn[-1]))\n",
    "        \n",
    "        #Attention\n",
    "        #padded, seq_lengths = rnn_utils.pad_packed_sequence(rnnOut, padding_value=-1e10, total_length=max_length)\n",
    "        itemx1 = self.linA1(rnnOut)\n",
    "        userx1 = self.linU1(U).unsqueeze(0)\n",
    "        x2 = torch.tanh(itemx1+userx1)\n",
    "        x3 = self.linA2(x2)\n",
    "        \n",
    "        #mask = Variable(torch.ones(x3.size()))\n",
    "        #for i, l in enumerate(seq_lengths):  # skip the first sentence\n",
    "         #   if l < max_length:\n",
    "          #      mask[i, l:] = 0\n",
    "        \n",
    "        #x4=x3*mask\n",
    "        alpha = self.softmax(x3)\n",
    "        score= rnnOut*alpha\n",
    "            \n",
    "        x = torch.sum(score,dim=0)\n",
    "        \n",
    "        #batchnorm testet here\n",
    "        \n",
    "       # x = torch.cat([U, V], dim=1)\n",
    "        x = self.drop0(x)\n",
    "        x = F.relu(self.lin1(x))\n",
    "        x = self.drop1(x)\n",
    "        #batchnorm testet here\n",
    "        \n",
    "        x = self.lin2(x)\n",
    "        \n",
    "        x = self.sigmoid(x)\n",
    "        return x\n",
    "    \n",
    "    def init_hidden(self, batch_size):\n",
    "        init = torch.zeros(1, batch_size, n_hidden)\n",
    "        return (init,init)\n",
    "    "
   ]
  },
  {
   "cell_type": "code",
   "execution_count": 9,
   "metadata": {},
   "outputs": [],
   "source": [
    "## Training loop\n",
    "def train(model, train_loader, optimizer, criterion, epoch):\n",
    "    model.train()\n",
    "    for batch_idx, (data, _) in enumerate(train_loader):\n",
    "        users,(items, seq_lengths),ratings = data\n",
    "        \n",
    "        batch_size = len(users)\n",
    "        users = users.long()\n",
    "        items = items.long()\n",
    "        ratings = ratings.float()      \n",
    "        ratings = ratings.view(-1)\n",
    "        \n",
    "        optimizer.zero_grad()\n",
    "        hidden_size = model.init_hidden(batch_size)\n",
    "        output = model(users, items, hidden_size,seq_lengths)\n",
    "        output = output.view(-1)\n",
    "        #print(output)\n",
    "        \n",
    "        loss = criterion(output.float(), ratings)\n",
    "        loss.backward()\n",
    "        optimizer.step()\n",
    "        #if batch_idx % len(train_loader.dataset)/10 == 0:\n",
    "        #    print('Train Epoch: {} [{}/{} ({:.0f}%)]\\tLoss: {:.6f}'.format(\n",
    "        #        epoch, batch_idx * len(users), len(train_loader.dataset),\n",
    "        #        100. * batch_idx / len(train_loader), loss.item()))\n",
    "\n",
    "def validate(model, val_loader, criterion, epoch):\n",
    "    model.eval()\n",
    "    outputlist = []\n",
    "    val_loss = 0\n",
    "    TP,FP,TN,FN = 0,0,0,0\n",
    "    with torch.no_grad():\n",
    "        for batch_idx, (data, _) in enumerate(val_loader):\n",
    "            users, (items, seq_lengths), ratings = data\n",
    "            batch_size = len(users)\n",
    "            users = users.long()\n",
    "            items = items.long()\n",
    "            ratings = ratings.float()\n",
    "            \n",
    "            ratings = ratings.unsqueeze(1)\n",
    "            hidden_size = model.init_hidden(batch_size)\n",
    "            output = model(users, items, hidden_size,seq_lengths)\n",
    "            output_flat = [0 if o < 0.5 else 1 for o in output.data]\n",
    "            p = output_flat.count(1)\n",
    "            TP += p\n",
    "            FN += len(output_flat) - p\n",
    "            outputlist += [output]\n",
    "            val_loss += criterion(output.float(), ratings).item() # sum up batch loss\n",
    "\n",
    "    #print(TP, FN)\n",
    "    acc = (TP + TN)/(TP + TN + FP + FN)\n",
    "    #sens = TP/(TP + FN)\n",
    "    val_loss /= len(val_loader)\n",
    "    \n",
    "    prec=(TP)/(TP+FN)\n",
    "    \n",
    "    print(f'Epoch {epoch}: Validation average loss: {val_loss:.2f} | Accucary: {acc:.2f} | Precision: {prec:.2f}')\n",
    "    return prec,acc, val_loss\n",
    "\n",
    "def trainLoop(epochs, lr=0.001, wd = 1e-6):\n",
    "    # Define model    \n",
    "    model = CFNN(num_users, num_embeddings, embedding_dim)\n",
    "    criterion = nn.BCELoss()\n",
    "    optimizer = optim.Adam(filter(lambda p: p.requires_grad, model.parameters()), lr=lr, weight_decay = wd)\n",
    "    \n",
    "    accs = []\n",
    "    losses = []\n",
    "    precs = []\n",
    "    \n",
    "    for epoch in range(1, epochs + 1):\n",
    "        train(model, train_iter, optimizer, criterion, epoch)\n",
    "        prec,acc, val_loss = validate(model, val_iter, criterion, epoch)\n",
    "        accs += [acc]\n",
    "        losses += [val_loss]\n",
    "        precs += [prec]\n",
    "\n",
    "    \n",
    "    plt.plot(range(1,epochs+1),accs)\n",
    "    plt.show()\n",
    "    plt.plot(range(1,epochs+1),losses)\n",
    "    plt.show()\n",
    "    plt.plot(range(1,epochs+1),precs)\n",
    "    plt.show()"
   ]
  },
  {
   "cell_type": "code",
   "execution_count": 10,
   "metadata": {},
   "outputs": [
    {
     "name": "stdout",
     "output_type": "stream",
     "text": [
      "Epoch 1: Validation average loss: 0.66 | Accucary: 1.00 | Precision: 1.00\n",
      "Epoch 2: Validation average loss: 0.63 | Accucary: 1.00 | Precision: 1.00\n",
      "Epoch 3: Validation average loss: 0.54 | Accucary: 1.00 | Precision: 1.00\n",
      "Epoch 4: Validation average loss: 0.48 | Accucary: 0.96 | Precision: 0.96\n",
      "Epoch 5: Validation average loss: 0.47 | Accucary: 0.95 | Precision: 0.95\n",
      "Epoch 6: Validation average loss: 0.50 | Accucary: 0.90 | Precision: 0.90\n",
      "Epoch 7: Validation average loss: 0.50 | Accucary: 0.91 | Precision: 0.91\n",
      "Epoch 8: Validation average loss: 0.48 | Accucary: 0.93 | Precision: 0.93\n",
      "Epoch 9: Validation average loss: 0.47 | Accucary: 0.92 | Precision: 0.92\n",
      "Epoch 10: Validation average loss: 0.45 | Accucary: 0.93 | Precision: 0.93\n"
     ]
    },
    {
     "data": {
      "image/png": "[encoded data removed]",
      "text/plain": [
       "<Figure size 432x288 with 1 Axes>"
      ]
     },
     "metadata": {},
     "output_type": "display_data"
    },
    {
     "data": {
      "image/png": "[encoded data removed]",
      "text/plain": [
       "<Figure size 432x288 with 1 Axes>"
      ]
     },
     "metadata": {},
     "output_type": "display_data"
    },
    {
     "data": {
      "image/png": "[encoded data removed]",
      "text/plain": [
       "<Figure size 432x288 with 1 Axes>"
      ]
     },
     "metadata": {},
     "output_type": "display_data"
    }
   ],
   "source": [
    "trainLoop(epochs=10, lr=0.0001, wd=0)"
   ]
  },
  {
   "cell_type": "code",
   "execution_count": null,
   "metadata": {},
   "outputs": [],
   "source": []
  },
  {
   "cell_type": "code",
   "execution_count": 11,
   "metadata": {},
   "outputs": [
    {
     "data": {
      "text/plain": [
       "<torchtext.data.field.Field at 0x11f80bc88>"
      ]
     },
     "execution_count": 11,
     "metadata": {},
     "output_type": "execute_result"
    }
   ],
   "source": [
    "TEXT"
   ]
  },
  {
   "cell_type": "code",
   "execution_count": null,
   "metadata": {},
   "outputs": [],
   "source": []
  }
 ],
 "metadata": {
  "kernelspec": {
   "display_name": "Python 3",
   "language": "python",
   "name": "python3"
  },
  "language_info": {
   "codemirror_mode": {
    "name": "ipython",
    "version": 3
   },
   "file_extension": ".py",
   "mimetype": "text/x-python",
   "name": "python",
   "nbconvert_exporter": "python",
   "pygments_lexer": "ipython3",
   "version": "3.6.5"
  }
 },
 "nbformat": 4,
 "nbformat_minor": 2
}
