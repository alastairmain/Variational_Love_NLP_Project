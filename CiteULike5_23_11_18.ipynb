{
 "cells": [
  {
   "cell_type": "markdown",
   "metadata": {},
   "source": [
    "https://towardsdatascience.com/use-torchtext-to-load-nlp-datasets-part-i-5da6f1c89d84?fbclid=IwAR1zjXlM5w93z47QalvvWeX7OQkIRGL8KK8dAkHepITnk81XFJt_g_FKdVE\n",
    "\n",
    "The code is heavily inspired from the above blogpost :-) "
   ]
  },
  {
   "cell_type": "code",
   "execution_count": null,
   "metadata": {},
   "outputs": [],
   "source": []
  },
  {
   "cell_type": "code",
   "execution_count": 54,
   "metadata": {},
   "outputs": [],
   "source": [
    "import re\n",
    "import logging\n",
    "\n",
    "import numpy as np\n",
    "import pandas as pd\n",
    "import spacy\n",
    "import torch\n",
    "import csv\n",
    "from torchtext import data\n",
    "import urllib.request"
   ]
  },
  {
   "cell_type": "code",
   "execution_count": 55,
   "metadata": {},
   "outputs": [],
   "source": [
    "#The User data \n",
    "User_data = pd.read_csv('user-info.csv', usecols = ['user.id','doc.id','rating'])\n",
    "User_data = User_data.rename(columns={'user.id': 'user_id','doc.id': 'doc_id'})\n"
   ]
  },
  {
   "cell_type": "code",
   "execution_count": 56,
   "metadata": {},
   "outputs": [],
   "source": [
    "# The article dataset\n",
    "article_data = pd.read_csv('raw-data.csv', usecols = ['doc.id','title','citeulike.id', 'raw.abstract'],encoding = \"ISO-8859-1\")\n",
    "article_data = article_data.rename(columns={'raw.abstract': 'abstract','doc.id': 'doc_id','citeulike.id': 'citeulike_id'})\n"
   ]
  },
  {
   "cell_type": "code",
   "execution_count": 57,
   "metadata": {},
   "outputs": [],
   "source": [
    "CiteULike_data=pd.merge(User_data,article_data,on=\"doc_id\")"
   ]
  },
  {
   "cell_type": "code",
   "execution_count": 58,
   "metadata": {},
   "outputs": [
    {
     "name": "stdout",
     "output_type": "stream",
     "text": [
      "122938\n"
     ]
    }
   ],
   "source": [
    "le = max(len(x) for x in CiteULike_data.abstract)\n",
    "print(le)"
   ]
  },
  {
   "cell_type": "code",
   "execution_count": 59,
   "metadata": {},
   "outputs": [],
   "source": [
    "NLP = spacy.load('en')\n",
    "MAX_CHARS = 1229381\n",
    "VAL_RATIO = 0.2\n",
    "LOGGER = logging.getLogger(\"CiteULike_data\")"
   ]
  },
  {
   "cell_type": "code",
   "execution_count": 60,
   "metadata": {},
   "outputs": [],
   "source": [
    "def tokenizer(abs_text):\n",
    "    abs_text = re.sub(\n",
    "        r\"[\\*\\\"“”\\n\\\\…\\+\\-\\/\\=\\(\\)‘•:\\[\\]\\|’\\!;]\", \" \", \n",
    "        str(abs_text))\n",
    "    abs_text = re.sub(r\"[ ]+\", \" \", str(abs_text))\n",
    "    abs_text = re.sub(r\"\\!+\", \"!\", str(abs_text))\n",
    "    abs_text = re.sub(r\"\\,+\", \",\", str(abs_text))\n",
    "    abs_text = re.sub(r\"\\?+\", \"?\", str(abs_text))\n",
    "    if (len(abs_text) > MAX_CHARS):\n",
    "        abs_text = abs_text[:MAX_CHARS]\n",
    "    return [\n",
    "        x.text for x in NLP.tokenizer(abs_text) if x.text != \" \"]"
   ]
  },
  {
   "cell_type": "code",
   "execution_count": 61,
   "metadata": {},
   "outputs": [],
   "source": [
    "VAL_RATIO = 0.2\n",
    "\n",
    "def prepare_csv(seed=999):\n",
    "    df_train = CiteULike_data\n",
    "    df_train[\"abstract\"] = \\\n",
    "        df_train.abstract.str.replace(\"\\n\", \" \")\n",
    "    idx = np.arange(df_train.shape[0])\n",
    "    np.random.seed(seed)\n",
    "    np.random.shuffle(idx)\n",
    "    val_size = int(len(idx) * VAL_RATIO)\n",
    "    df_train.iloc[idx[val_size:], :].to_csv(\n",
    "        \"cache/dataset_train.csv\", index=False)\n",
    "    df_train.iloc[idx[:val_size], :].to_csv(\n",
    "        \"cache/dataset_val.csv\", index=False)"
   ]
  },
  {
   "cell_type": "code",
   "execution_count": null,
   "metadata": {},
   "outputs": [],
   "source": []
  },
  {
   "cell_type": "code",
   "execution_count": 62,
   "metadata": {},
   "outputs": [],
   "source": [
    "def get_dataset(fix_length=None, lower=False, vectors=None):\n",
    "    if vectors is not None:\n",
    "        # pretrain vectors only supports all lower cases\n",
    "        lower = True\n",
    "    LOGGER.debug(\"Preparing CSV files...\")\n",
    "    prepare_csv()\n",
    "    abs_text = data.Field(\n",
    "        sequential=True,\n",
    "        fix_length=fix_length,\n",
    "        tokenize=tokenizer,\n",
    "        pad_first=True,\n",
    "        tensor_type=torch.LongTensor,\n",
    "        lower=lower\n",
    "    )\n",
    "    LOGGER.debug(\"Reading train csv file...\")\n",
    "    train, val = data.TabularDataset.splits(\n",
    "        path='cache/', format='csv', skip_header=True,\n",
    "        train='dataset_train.csv', validation='dataset_val.csv',\n",
    "        fields=[\n",
    "            ('user_id', data.Field(\n",
    "                use_vocab=False, sequential=False, tensor_type=torch.ByteTensor)),\n",
    "            ('doc_id', data.Field(\n",
    "                use_vocab=False, sequential=False, tensor_type=torch.ByteTensor)),\n",
    "            ('rating', data.Field(\n",
    "                use_vocab=False, sequential=False, tensor_type=torch.ByteTensor)),\n",
    "            ('title', None),\n",
    "            ('citeulike_id',None),\n",
    "            ('abstract', abs_text), \n",
    "        ])\n",
    "    LOGGER.debug(\"Building vocabulary...\")\n",
    "    abs_text.build_vocab(\n",
    "        train, val,\n",
    "        max_size=1229381,\n",
    "        min_freq=20,\n",
    "        vectors=vectors\n",
    "    )\n",
    "    LOGGER.debug(\"Done preparing the datasets\")\n",
    "    return train, val\n"
   ]
  },
  {
   "cell_type": "code",
   "execution_count": 63,
   "metadata": {},
   "outputs": [],
   "source": [
    "train,val=get_dataset(lower=False,vectors=None)"
   ]
  },
  {
   "cell_type": "code",
   "execution_count": 64,
   "metadata": {},
   "outputs": [],
   "source": [
    "def get_iterator(dataset, batch_size, train=True, shuffle=True, repeat=False, sort=None,sort_key=None):\n",
    "    dataset_iter = data.Iterator(\n",
    "        dataset, batch_size=batch_size, device=-1,\n",
    "        train=train, shuffle=shuffle, repeat=repeat,\n",
    "        sort=sort,sort_key=sort_key\n",
    "    )\n",
    "    return dataset_iter"
   ]
  },
  {
   "cell_type": "code",
   "execution_count": 65,
   "metadata": {},
   "outputs": [],
   "source": [
    "x = get_iterator(\n",
    "            train, 100 ,train=True,\n",
    "            shuffle=True, repeat=False,sort_key=True\n",
    "        )"
   ]
  },
  {
   "cell_type": "code",
   "execution_count": 66,
   "metadata": {},
   "outputs": [],
   "source": [
    "#next(x)"
   ]
  },
  {
   "cell_type": "code",
   "execution_count": 67,
   "metadata": {},
   "outputs": [],
   "source": [
    "g = get_iterator(\n",
    "            CiteULike_data, 100 ,train=True,\n",
    "            shuffle=True, repeat=False,sort_key=True\n",
    "        )"
   ]
  },
  {
   "cell_type": "code",
   "execution_count": 69,
   "metadata": {},
   "outputs": [],
   "source": [
    "for examples in get_iterator(\n",
    "            train, 100 ,train=True,\n",
    "            shuffle=True, repeat=False,sort_key=True\n",
    "        ):\n",
    "    x = examples.abstract # (fix_length, batch_size) Tensor\n",
    "    y = torch.stack([\n",
    "        examples.doc_id, examples.rating, \n",
    "        #examples.title,\n",
    "        #examples.citeulike_id, \n",
    "        examples.user_id\n",
    "    ], dim=1)"
   ]
  },
  {
   "cell_type": "code",
   "execution_count": 73,
   "metadata": {},
   "outputs": [
    {
     "ename": "NameError",
     "evalue": "name 'model' is not defined",
     "output_type": "error",
     "traceback": [
      "\u001b[0;31m---------------------------------------------------------------------------\u001b[0m",
      "\u001b[0;31mNameError\u001b[0m                                 Traceback (most recent call last)",
      "\u001b[0;32m<ipython-input-73-a36988b5e0a6>\u001b[0m in \u001b[0;36m<module>\u001b[0;34m()\u001b[0m\n\u001b[0;32m----> 1\u001b[0;31m \u001b[0mmodel\u001b[0m\u001b[0;34m.\u001b[0m\u001b[0mword_en\u001b[0m\u001b[0;34m.\u001b[0m\u001b[0mwieght\u001b[0m\u001b[0;34m.\u001b[0m\u001b[0mdata\u001b[0m\u001b[0;34m=\u001b[0m    \u001b[0mtrain\u001b[0m\u001b[0;34m.\u001b[0m\u001b[0mfields\u001b[0m\u001b[0;34m[\u001b[0m\u001b[0;34m\"abstract\"\u001b[0m\u001b[0;34m]\u001b[0m\u001b[0;34m.\u001b[0m\u001b[0mvocab\u001b[0m\u001b[0;34m.\u001b[0m\u001b[0mvectors\u001b[0m\u001b[0;34m\u001b[0m\u001b[0m\n\u001b[0m",
      "\u001b[0;31mNameError\u001b[0m: name 'model' is not defined"
     ]
    }
   ],
   "source": [
    "model.word_en.wieght.data=\\\n",
    "    train.fields[\"abstract\"].vocab.vectors"
   ]
  }
 ],
 "metadata": {
  "kernelspec": {
   "display_name": "Python 3",
   "language": "python",
   "name": "python3"
  }
 },
 "nbformat": 4,
 "nbformat_minor": 2
}
